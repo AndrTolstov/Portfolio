{
 "cells": [
  {
   "cell_type": "markdown",
   "metadata": {},
   "source": [
    "# Исследование поведения пользователей в мобильном приложении \n",
    "# \"Ненужные вещи\"\n",
    "**Описание проекта**\n",
    "\n",
    "Отделу аналитики приложения \"Ненужные вещи\" поступила задача от продукт-менеджера. Необходимо понять аудиторию приложения, сегментировать пользователей, для этого нам предстоит пронализировать поведение пользователей,- мы должны понять аудиторию, понять сценарии использования приложения\n",
    "\n",
    "**Цель исследования**\n",
    "- понять аудиторию приложения,- мы должны понять аудиторию, понять сценарии использования приложения для последующей сегментации пользователей, для этого нам предстоит пронализировать поведение пользователей\n",
    "\n",
    "**В наличии есть следующие данные**\n",
    "\n",
    "- `mobile_dataset.csv` - датасет содержит данные о событиях, совершенных в мобильном приложении \"Ненужные вещи\". В нем пользователи продают свои ненужные вещи, размещая их на доске объявлений. В датасете содержатся данные пользователей, впервые совершивших действия в приложении после 7 октября 2019 года\n",
    "- `mobile_sources.csv` - датасет с источниками, с которых пользователь установил приложение\n",
    "\n",
    "**Задачи исследования**\n",
    "\n",
    "- выяснить какие сценарии использования приложения выделяются\n",
    "- проанализировать связь целевого события — просмотра контактов — и других действий пользователей\n",
    "- выяснить как различается время между поиском и открытием объявления у пользователей, совершающих и не совершающих целевое действие\n",
    "- проверить статистические гипотезы\n",
    " - одни пользователи совершают действия tips_show и tips_click, другие — только tips_show. Проверить гипотезу: конверсия в просмотры контактов различается у этих двух групп\n",
    " - пользователи совершающие целевое действие являются более вовлеченными в приложение\n",
    " \n",
    "**Ход исследования**\n",
    "\n",
    "1. Загрузить файлы с данными и выполнить обзор данных\n",
    "2. Предобработка данных\n",
    "3. Исследовательский анализ данных\n",
    "4. Исследование воронки событий\n",
    "5. Статистическая проверка гипотез\n",
    "6. Общий вывод\n",
    "---"
   ]
  },
  {
   "cell_type": "markdown",
   "metadata": {},
   "source": [
    "## Файлы с данными и общая информация"
   ]
  },
  {
   "cell_type": "code",
   "execution_count": 1,
   "metadata": {},
   "outputs": [],
   "source": [
    "import pandas as pd\n",
    "import datetime\n",
    "import numpy as np\n",
    "from scipy import stats as st\n",
    "\n",
    "from matplotlib import pyplot as plt\n",
    "import seaborn as sns\n",
    "import plotly.express as px\n",
    "from plotly import graph_objects as go\n",
    "from plotly.subplots import make_subplots\n",
    "import kaleido\n",
    "import plotly.io as pio\n",
    "pio.renderers.default = \"png\""
   ]
  },
  {
   "cell_type": "code",
   "execution_count": 2,
   "metadata": {},
   "outputs": [],
   "source": [
    "# определим свою цветовую гамму для графиков проекта\n",
    "bam_color = ['#3C6255','#9E6F21', '#A4D0A4'] #, '#EAE7B1', '#CCD5AE', '#617A55', '#FEE8B0', '#B8E7E1']  # палитра цветов\n",
    "pio.templates['bam'] = go.layout.Template(layout_colorway=bam_color)\n",
    "pio.templates.default = \"plotly_white+bam\""
   ]
  },
  {
   "cell_type": "markdown",
   "metadata": {},
   "source": [
    "**Загрузим данные о событиях, совершенных в мобильном приложении из CSV-файла в переменные**"
   ]
  },
  {
   "cell_type": "code",
   "execution_count": 3,
   "metadata": {},
   "outputs": [
    {
     "data": {
      "text/html": [
       "<div>\n",
       "<style scoped>\n",
       "    .dataframe tbody tr th:only-of-type {\n",
       "        vertical-align: middle;\n",
       "    }\n",
       "\n",
       "    .dataframe tbody tr th {\n",
       "        vertical-align: top;\n",
       "    }\n",
       "\n",
       "    .dataframe thead th {\n",
       "        text-align: right;\n",
       "    }\n",
       "</style>\n",
       "<table border=\"1\" class=\"dataframe\">\n",
       "  <thead>\n",
       "    <tr style=\"text-align: right;\">\n",
       "      <th></th>\n",
       "      <th>event.time</th>\n",
       "      <th>event.name</th>\n",
       "      <th>user.id</th>\n",
       "    </tr>\n",
       "  </thead>\n",
       "  <tbody>\n",
       "    <tr>\n",
       "      <th>0</th>\n",
       "      <td>2019-10-07 00:00:00.431357</td>\n",
       "      <td>advert_open</td>\n",
       "      <td>020292ab-89bc-4156-9acf-68bc2783f894</td>\n",
       "    </tr>\n",
       "    <tr>\n",
       "      <th>1</th>\n",
       "      <td>2019-10-07 00:00:01.236320</td>\n",
       "      <td>tips_show</td>\n",
       "      <td>020292ab-89bc-4156-9acf-68bc2783f894</td>\n",
       "    </tr>\n",
       "    <tr>\n",
       "      <th>2</th>\n",
       "      <td>2019-10-07 00:00:02.245341</td>\n",
       "      <td>tips_show</td>\n",
       "      <td>cf7eda61-9349-469f-ac27-e5b6f5ec475c</td>\n",
       "    </tr>\n",
       "    <tr>\n",
       "      <th>3</th>\n",
       "      <td>2019-10-07 00:00:07.039334</td>\n",
       "      <td>tips_show</td>\n",
       "      <td>020292ab-89bc-4156-9acf-68bc2783f894</td>\n",
       "    </tr>\n",
       "    <tr>\n",
       "      <th>4</th>\n",
       "      <td>2019-10-07 00:00:56.319813</td>\n",
       "      <td>advert_open</td>\n",
       "      <td>cf7eda61-9349-469f-ac27-e5b6f5ec475c</td>\n",
       "    </tr>\n",
       "  </tbody>\n",
       "</table>\n",
       "</div>"
      ],
      "text/plain": [
       "                   event.time   event.name  \\\n",
       "0  2019-10-07 00:00:00.431357  advert_open   \n",
       "1  2019-10-07 00:00:01.236320    tips_show   \n",
       "2  2019-10-07 00:00:02.245341    tips_show   \n",
       "3  2019-10-07 00:00:07.039334    tips_show   \n",
       "4  2019-10-07 00:00:56.319813  advert_open   \n",
       "\n",
       "                                user.id  \n",
       "0  020292ab-89bc-4156-9acf-68bc2783f894  \n",
       "1  020292ab-89bc-4156-9acf-68bc2783f894  \n",
       "2  cf7eda61-9349-469f-ac27-e5b6f5ec475c  \n",
       "3  020292ab-89bc-4156-9acf-68bc2783f894  \n",
       "4  cf7eda61-9349-469f-ac27-e5b6f5ec475c  "
      ]
     },
     "metadata": {},
     "output_type": "display_data"
    },
    {
     "data": {
      "text/html": [
       "<div>\n",
       "<style scoped>\n",
       "    .dataframe tbody tr th:only-of-type {\n",
       "        vertical-align: middle;\n",
       "    }\n",
       "\n",
       "    .dataframe tbody tr th {\n",
       "        vertical-align: top;\n",
       "    }\n",
       "\n",
       "    .dataframe thead th {\n",
       "        text-align: right;\n",
       "    }\n",
       "</style>\n",
       "<table border=\"1\" class=\"dataframe\">\n",
       "  <thead>\n",
       "    <tr style=\"text-align: right;\">\n",
       "      <th></th>\n",
       "      <th>userId</th>\n",
       "      <th>source</th>\n",
       "    </tr>\n",
       "  </thead>\n",
       "  <tbody>\n",
       "    <tr>\n",
       "      <th>0</th>\n",
       "      <td>020292ab-89bc-4156-9acf-68bc2783f894</td>\n",
       "      <td>other</td>\n",
       "    </tr>\n",
       "    <tr>\n",
       "      <th>1</th>\n",
       "      <td>cf7eda61-9349-469f-ac27-e5b6f5ec475c</td>\n",
       "      <td>yandex</td>\n",
       "    </tr>\n",
       "    <tr>\n",
       "      <th>2</th>\n",
       "      <td>8c356c42-3ba9-4cb6-80b8-3f868d0192c3</td>\n",
       "      <td>yandex</td>\n",
       "    </tr>\n",
       "    <tr>\n",
       "      <th>3</th>\n",
       "      <td>d9b06b47-0f36-419b-bbb0-3533e582a6cb</td>\n",
       "      <td>other</td>\n",
       "    </tr>\n",
       "    <tr>\n",
       "      <th>4</th>\n",
       "      <td>f32e1e2a-3027-4693-b793-b7b3ff274439</td>\n",
       "      <td>google</td>\n",
       "    </tr>\n",
       "  </tbody>\n",
       "</table>\n",
       "</div>"
      ],
      "text/plain": [
       "                                 userId  source\n",
       "0  020292ab-89bc-4156-9acf-68bc2783f894   other\n",
       "1  cf7eda61-9349-469f-ac27-e5b6f5ec475c  yandex\n",
       "2  8c356c42-3ba9-4cb6-80b8-3f868d0192c3  yandex\n",
       "3  d9b06b47-0f36-419b-bbb0-3533e582a6cb   other\n",
       "4  f32e1e2a-3027-4693-b793-b7b3ff274439  google"
      ]
     },
     "execution_count": 3,
     "metadata": {},
     "output_type": "execute_result"
    }
   ],
   "source": [
    "logs = pd.read_csv('mobile_dataset.csv')  # логи\n",
    "sources = pd.read_csv('mobile_sourсes.csv')  # источники\n",
    "\n",
    "display(logs.head())\n",
    "sources.head()"
   ]
  },
  {
   "cell_type": "markdown",
   "metadata": {},
   "source": [
    "**Отобразим основную информацию о данных**"
   ]
  },
  {
   "cell_type": "code",
   "execution_count": 4,
   "metadata": {},
   "outputs": [
    {
     "name": "stdout",
     "output_type": "stream",
     "text": [
      "<class 'pandas.core.frame.DataFrame'>\n",
      "RangeIndex: 74197 entries, 0 to 74196\n",
      "Data columns (total 3 columns):\n",
      " #   Column      Non-Null Count  Dtype \n",
      "---  ------      --------------  ----- \n",
      " 0   event.time  74197 non-null  object\n",
      " 1   event.name  74197 non-null  object\n",
      " 2   user.id     74197 non-null  object\n",
      "dtypes: object(3)\n",
      "memory usage: 1.7+ MB\n"
     ]
    },
    {
     "data": {
      "text/plain": [
       "None"
      ]
     },
     "metadata": {},
     "output_type": "display_data"
    },
    {
     "name": "stdout",
     "output_type": "stream",
     "text": [
      "<class 'pandas.core.frame.DataFrame'>\n",
      "RangeIndex: 4293 entries, 0 to 4292\n",
      "Data columns (total 2 columns):\n",
      " #   Column  Non-Null Count  Dtype \n",
      "---  ------  --------------  ----- \n",
      " 0   userId  4293 non-null   object\n",
      " 1   source  4293 non-null   object\n",
      "dtypes: object(2)\n",
      "memory usage: 67.2+ KB\n"
     ]
    }
   ],
   "source": [
    "display(logs.info())\n",
    "sources.info()"
   ]
  },
  {
   "cell_type": "markdown",
   "metadata": {},
   "source": [
    "---\n",
    "### Вывод"
   ]
  },
  {
   "cell_type": "markdown",
   "metadata": {},
   "source": [
    "**Отобразили начальные строки таблицы и общую информацию**  \n",
    "\n",
    "**Описание данных**  \n",
    "В нашем распоряжении два датасета. Файл `mobile_dataset.csv` хранит информацию о логах, где каждая запись это действие пользователя, или событие, `mobile_sourсes.csv` - источники, с которых пользователь установил приложение\n",
    "\n",
    "Структура `mobile_dataset.csv`:  \n",
    "- `event.time` — время совершения,\n",
    "- `user.id` — идентификатор пользователя,\n",
    "- `event.name` — действие пользователя.\n",
    "\n",
    "Виды действий:\n",
    "\n",
    "- `advert_open` — открыл карточки объявления,\n",
    "- `photos_show` — просмотрел фотографий в объявлении,\n",
    "- `tips_show` — увидел рекомендованные объявления,\n",
    "- `tips_click` — кликнул по рекомендованному объявлению,\n",
    "- `contacts_show` и `show_contacts` — посмотрел номер телефона,\n",
    "- `contacts_call` — позвонил по номеру из объявления,\n",
    "- `map` — открыл карту объявлений,\n",
    "- `search_1`—`search_7` — разные действия, связанные с поиском по сайту,\n",
    "- `favorites_add` — добавил объявление в избранное.\n",
    "- **Таблица с 3 столбцами(3 строковых) и 74197 строками**\n",
    "\n",
    "Структура `mobile_sourсes.csv`:\n",
    "- `userId` — идентификатор пользователя,\n",
    "- `source` — источник, с которого пользователь установил приложение.\n",
    "- **Таблица с 2 столбцами(2 строковых) и 4293 строками**\n",
    "---"
   ]
  },
  {
   "cell_type": "markdown",
   "metadata": {},
   "source": [
    "## Предобработка данных"
   ]
  },
  {
   "cell_type": "markdown",
   "metadata": {},
   "source": [
    "### Заменим названия столбцов"
   ]
  },
  {
   "cell_type": "markdown",
   "metadata": {},
   "source": [
    "**Приведем к нижнему регистру и к стилю: `слова_разделены_подчёркиванием`**"
   ]
  },
  {
   "cell_type": "code",
   "execution_count": 5,
   "metadata": {},
   "outputs": [],
   "source": [
    "logs.columns = ['event_time', 'event_name', 'user_id']\n",
    "sources.columns = ['user_id', 'source']"
   ]
  },
  {
   "cell_type": "markdown",
   "metadata": {},
   "source": [
    "### Преобразуем данные в нужные типы"
   ]
  },
  {
   "cell_type": "markdown",
   "metadata": {},
   "source": [
    "**В столбце `logs['event_time']` переведем значения в специальный формат для работы с датами**"
   ]
  },
  {
   "cell_type": "code",
   "execution_count": 6,
   "metadata": {},
   "outputs": [],
   "source": [
    "logs['event_time'] = pd.to_datetime(logs['event_time'])"
   ]
  },
  {
   "cell_type": "markdown",
   "metadata": {},
   "source": [
    "### Обработаем пропуски"
   ]
  },
  {
   "cell_type": "markdown",
   "metadata": {},
   "source": [
    "**Определим количество пропущенных значений в таблице для каждого столбца**"
   ]
  },
  {
   "cell_type": "code",
   "execution_count": 7,
   "metadata": {},
   "outputs": [
    {
     "data": {
      "text/plain": [
       "event_time    0\n",
       "event_name    0\n",
       "user_id       0\n",
       "dtype: int64"
      ]
     },
     "metadata": {},
     "output_type": "display_data"
    },
    {
     "data": {
      "text/plain": [
       "user_id    0\n",
       "source     0\n",
       "dtype: int64"
      ]
     },
     "execution_count": 7,
     "metadata": {},
     "output_type": "execute_result"
    }
   ],
   "source": [
    "display(logs.isna().sum())\n",
    "sources.isna().sum()"
   ]
  },
  {
   "cell_type": "markdown",
   "metadata": {},
   "source": [
    "**Пропусков не обнаружено**"
   ]
  },
  {
   "cell_type": "markdown",
   "metadata": {},
   "source": [
    "### Обработаем дубликаты"
   ]
  },
  {
   "cell_type": "markdown",
   "metadata": {},
   "source": [
    "**Выявим явные дубликаты и удалим, если таковые имеются**"
   ]
  },
  {
   "cell_type": "code",
   "execution_count": 8,
   "metadata": {},
   "outputs": [
    {
     "data": {
      "text/plain": [
       "0"
      ]
     },
     "metadata": {},
     "output_type": "display_data"
    },
    {
     "data": {
      "text/plain": [
       "0"
      ]
     },
     "metadata": {},
     "output_type": "display_data"
    }
   ],
   "source": [
    "for table in [logs, sources]:\n",
    "    display(table.duplicated().sum())"
   ]
  },
  {
   "cell_type": "markdown",
   "metadata": {},
   "source": [
    "- явные дубликаты отсутствуют"
   ]
  },
  {
   "cell_type": "markdown",
   "metadata": {},
   "source": [
    "**Выявим неявные дубликаты**"
   ]
  },
  {
   "cell_type": "markdown",
   "metadata": {},
   "source": [
    "Посмотрим какие действия совершают пользователи"
   ]
  },
  {
   "cell_type": "code",
   "execution_count": 9,
   "metadata": {},
   "outputs": [
    {
     "data": {
      "text/plain": [
       "array(['advert_open', 'tips_show', 'map', 'contacts_show', 'search_4',\n",
       "       'search_5', 'tips_click', 'photos_show', 'search_1', 'search_2',\n",
       "       'search_3', 'favorites_add', 'contacts_call', 'search_6',\n",
       "       'search_7', 'show_contacts'], dtype=object)"
      ]
     },
     "execution_count": 9,
     "metadata": {},
     "output_type": "execute_result"
    }
   ],
   "source": [
    "logs['event_name'].unique()"
   ]
  },
  {
   "cell_type": "markdown",
   "metadata": {},
   "source": [
    "Заменим `show_contacts` на `contacts_show` - это одно и тоже действие"
   ]
  },
  {
   "cell_type": "code",
   "execution_count": 10,
   "metadata": {},
   "outputs": [],
   "source": [
    "logs['event_name'] = logs['event_name'].replace('show_contacts', 'contacts_show')"
   ]
  },
  {
   "cell_type": "markdown",
   "metadata": {},
   "source": [
    "Заменим все варианты `search_N` на `search` - это все действия поиска, разделение в нашем исследование не нужно"
   ]
  },
  {
   "cell_type": "code",
   "execution_count": 11,
   "metadata": {},
   "outputs": [],
   "source": [
    "search = ['search_'+str(i) for i in range(1,8)]\n",
    "\n",
    "logs['event_name'] = logs['event_name'].replace(search, 'search')"
   ]
  },
  {
   "cell_type": "markdown",
   "metadata": {},
   "source": [
    "Проверим какие бывают источники привлечения пользователей"
   ]
  },
  {
   "cell_type": "code",
   "execution_count": 12,
   "metadata": {},
   "outputs": [
    {
     "data": {
      "text/plain": [
       "array(['other', 'yandex', 'google'], dtype=object)"
      ]
     },
     "execution_count": 12,
     "metadata": {},
     "output_type": "execute_result"
    }
   ],
   "source": [
    "sources['source'].unique()"
   ]
  },
  {
   "cell_type": "markdown",
   "metadata": {},
   "source": [
    "Тут все в порядке: 3 источника **yandex, google, other**"
   ]
  },
  {
   "cell_type": "markdown",
   "metadata": {},
   "source": [
    "### Обработаем редкие и выбивающиеся значения"
   ]
  },
  {
   "cell_type": "markdown",
   "metadata": {},
   "source": [
    "Такие значения могут быть в столбце `event_time`"
   ]
  },
  {
   "cell_type": "code",
   "execution_count": 13,
   "metadata": {},
   "outputs": [
    {
     "data": {
      "image/png": "[encoded data removed]"
     },
     "metadata": {},
     "output_type": "display_data"
    }
   ],
   "source": [
    "fig = px.box(logs, y=\"event_time\")\n",
    "fig.update_layout(\n",
    "        title={\n",
    "            'text': \"Распределение даты и времени событий в логе\",\n",
    "            'y':0.9,\n",
    "            'x':0.5,\n",
    "            'xanchor': 'center',\n",
    "            'yanchor': 'top'},\n",
    "        yaxis_title=\"дата и время события\",\n",
    "    )\n",
    "fig.show()"
   ]
  },
  {
   "cell_type": "markdown",
   "metadata": {},
   "source": [
    "- на графике не наблюдаем каких либо выбросов, оставим данные без изменений"
   ]
  },
  {
   "cell_type": "markdown",
   "metadata": {},
   "source": [
    "### Объединим две таблицы в одну"
   ]
  },
  {
   "cell_type": "code",
   "execution_count": 14,
   "metadata": {},
   "outputs": [
    {
     "data": {
      "text/html": [
       "<div>\n",
       "<style scoped>\n",
       "    .dataframe tbody tr th:only-of-type {\n",
       "        vertical-align: middle;\n",
       "    }\n",
       "\n",
       "    .dataframe tbody tr th {\n",
       "        vertical-align: top;\n",
       "    }\n",
       "\n",
       "    .dataframe thead th {\n",
       "        text-align: right;\n",
       "    }\n",
       "</style>\n",
       "<table border=\"1\" class=\"dataframe\">\n",
       "  <thead>\n",
       "    <tr style=\"text-align: right;\">\n",
       "      <th></th>\n",
       "      <th>event_time</th>\n",
       "      <th>event_name</th>\n",
       "      <th>user_id</th>\n",
       "      <th>source</th>\n",
       "    </tr>\n",
       "  </thead>\n",
       "  <tbody>\n",
       "    <tr>\n",
       "      <th>0</th>\n",
       "      <td>2019-10-07 00:00:00.431357</td>\n",
       "      <td>advert_open</td>\n",
       "      <td>020292ab-89bc-4156-9acf-68bc2783f894</td>\n",
       "      <td>other</td>\n",
       "    </tr>\n",
       "    <tr>\n",
       "      <th>1</th>\n",
       "      <td>2019-10-07 00:00:01.236320</td>\n",
       "      <td>tips_show</td>\n",
       "      <td>020292ab-89bc-4156-9acf-68bc2783f894</td>\n",
       "      <td>other</td>\n",
       "    </tr>\n",
       "    <tr>\n",
       "      <th>2</th>\n",
       "      <td>2019-10-07 00:00:02.245341</td>\n",
       "      <td>tips_show</td>\n",
       "      <td>cf7eda61-9349-469f-ac27-e5b6f5ec475c</td>\n",
       "      <td>yandex</td>\n",
       "    </tr>\n",
       "    <tr>\n",
       "      <th>3</th>\n",
       "      <td>2019-10-07 00:00:07.039334</td>\n",
       "      <td>tips_show</td>\n",
       "      <td>020292ab-89bc-4156-9acf-68bc2783f894</td>\n",
       "      <td>other</td>\n",
       "    </tr>\n",
       "    <tr>\n",
       "      <th>4</th>\n",
       "      <td>2019-10-07 00:00:56.319813</td>\n",
       "      <td>advert_open</td>\n",
       "      <td>cf7eda61-9349-469f-ac27-e5b6f5ec475c</td>\n",
       "      <td>yandex</td>\n",
       "    </tr>\n",
       "  </tbody>\n",
       "</table>\n",
       "</div>"
      ],
      "text/plain": [
       "                  event_time   event_name  \\\n",
       "0 2019-10-07 00:00:00.431357  advert_open   \n",
       "1 2019-10-07 00:00:01.236320    tips_show   \n",
       "2 2019-10-07 00:00:02.245341    tips_show   \n",
       "3 2019-10-07 00:00:07.039334    tips_show   \n",
       "4 2019-10-07 00:00:56.319813  advert_open   \n",
       "\n",
       "                                user_id  source  \n",
       "0  020292ab-89bc-4156-9acf-68bc2783f894   other  \n",
       "1  020292ab-89bc-4156-9acf-68bc2783f894   other  \n",
       "2  cf7eda61-9349-469f-ac27-e5b6f5ec475c  yandex  \n",
       "3  020292ab-89bc-4156-9acf-68bc2783f894   other  \n",
       "4  cf7eda61-9349-469f-ac27-e5b6f5ec475c  yandex  "
      ]
     },
     "execution_count": 14,
     "metadata": {},
     "output_type": "execute_result"
    }
   ],
   "source": [
    "logs = logs.merge(sources, on='user_id', how='left')\n",
    "\n",
    "logs.head()"
   ]
  },
  {
   "cell_type": "markdown",
   "metadata": {},
   "source": [
    "- теперь имеем полные данные в одной таблице, так намного удобнее работать в дальнейшем"
   ]
  },
  {
   "cell_type": "markdown",
   "metadata": {},
   "source": [
    "### Добавим столбец с датой"
   ]
  },
  {
   "cell_type": "code",
   "execution_count": 15,
   "metadata": {},
   "outputs": [],
   "source": [
    "logs['event_dt'] = logs['event_time'].dt.date"
   ]
  },
  {
   "cell_type": "markdown",
   "metadata": {},
   "source": [
    "### Отсортируем датафрейм по пользователям и времени события, это пригодится в дальнейшем исследовании"
   ]
  },
  {
   "cell_type": "code",
   "execution_count": 16,
   "metadata": {},
   "outputs": [],
   "source": [
    "logs = logs.sort_values(by=['user_id', 'event_time']).reset_index(drop=True)"
   ]
  },
  {
   "cell_type": "markdown",
   "metadata": {},
   "source": [
    "### Оценим общую информацию по таблице после преобразований"
   ]
  },
  {
   "cell_type": "code",
   "execution_count": 17,
   "metadata": {},
   "outputs": [
    {
     "data": {
      "text/html": [
       "<div>\n",
       "<style scoped>\n",
       "    .dataframe tbody tr th:only-of-type {\n",
       "        vertical-align: middle;\n",
       "    }\n",
       "\n",
       "    .dataframe tbody tr th {\n",
       "        vertical-align: top;\n",
       "    }\n",
       "\n",
       "    .dataframe thead th {\n",
       "        text-align: right;\n",
       "    }\n",
       "</style>\n",
       "<table border=\"1\" class=\"dataframe\">\n",
       "  <thead>\n",
       "    <tr style=\"text-align: right;\">\n",
       "      <th></th>\n",
       "      <th>event_time</th>\n",
       "      <th>event_name</th>\n",
       "      <th>user_id</th>\n",
       "      <th>source</th>\n",
       "      <th>event_dt</th>\n",
       "    </tr>\n",
       "  </thead>\n",
       "  <tbody>\n",
       "    <tr>\n",
       "      <th>0</th>\n",
       "      <td>2019-10-07 13:39:45.989359</td>\n",
       "      <td>tips_show</td>\n",
       "      <td>0001b1d5-b74a-4cbf-aeb0-7df5947bf349</td>\n",
       "      <td>other</td>\n",
       "      <td>2019-10-07</td>\n",
       "    </tr>\n",
       "    <tr>\n",
       "      <th>1</th>\n",
       "      <td>2019-10-07 13:40:31.052909</td>\n",
       "      <td>tips_show</td>\n",
       "      <td>0001b1d5-b74a-4cbf-aeb0-7df5947bf349</td>\n",
       "      <td>other</td>\n",
       "      <td>2019-10-07</td>\n",
       "    </tr>\n",
       "    <tr>\n",
       "      <th>2</th>\n",
       "      <td>2019-10-07 13:41:05.722489</td>\n",
       "      <td>tips_show</td>\n",
       "      <td>0001b1d5-b74a-4cbf-aeb0-7df5947bf349</td>\n",
       "      <td>other</td>\n",
       "      <td>2019-10-07</td>\n",
       "    </tr>\n",
       "    <tr>\n",
       "      <th>3</th>\n",
       "      <td>2019-10-07 13:43:20.735461</td>\n",
       "      <td>tips_show</td>\n",
       "      <td>0001b1d5-b74a-4cbf-aeb0-7df5947bf349</td>\n",
       "      <td>other</td>\n",
       "      <td>2019-10-07</td>\n",
       "    </tr>\n",
       "    <tr>\n",
       "      <th>4</th>\n",
       "      <td>2019-10-07 13:45:30.917502</td>\n",
       "      <td>tips_show</td>\n",
       "      <td>0001b1d5-b74a-4cbf-aeb0-7df5947bf349</td>\n",
       "      <td>other</td>\n",
       "      <td>2019-10-07</td>\n",
       "    </tr>\n",
       "  </tbody>\n",
       "</table>\n",
       "</div>"
      ],
      "text/plain": [
       "                  event_time event_name                               user_id  \\\n",
       "0 2019-10-07 13:39:45.989359  tips_show  0001b1d5-b74a-4cbf-aeb0-7df5947bf349   \n",
       "1 2019-10-07 13:40:31.052909  tips_show  0001b1d5-b74a-4cbf-aeb0-7df5947bf349   \n",
       "2 2019-10-07 13:41:05.722489  tips_show  0001b1d5-b74a-4cbf-aeb0-7df5947bf349   \n",
       "3 2019-10-07 13:43:20.735461  tips_show  0001b1d5-b74a-4cbf-aeb0-7df5947bf349   \n",
       "4 2019-10-07 13:45:30.917502  tips_show  0001b1d5-b74a-4cbf-aeb0-7df5947bf349   \n",
       "\n",
       "  source    event_dt  \n",
       "0  other  2019-10-07  \n",
       "1  other  2019-10-07  \n",
       "2  other  2019-10-07  \n",
       "3  other  2019-10-07  \n",
       "4  other  2019-10-07  "
      ]
     },
     "metadata": {},
     "output_type": "display_data"
    },
    {
     "name": "stdout",
     "output_type": "stream",
     "text": [
      "<class 'pandas.core.frame.DataFrame'>\n",
      "RangeIndex: 74197 entries, 0 to 74196\n",
      "Data columns (total 5 columns):\n",
      " #   Column      Non-Null Count  Dtype         \n",
      "---  ------      --------------  -----         \n",
      " 0   event_time  74197 non-null  datetime64[ns]\n",
      " 1   event_name  74197 non-null  object        \n",
      " 2   user_id     74197 non-null  object        \n",
      " 3   source      74197 non-null  object        \n",
      " 4   event_dt    74197 non-null  object        \n",
      "dtypes: datetime64[ns](1), object(4)\n",
      "memory usage: 2.8+ MB\n"
     ]
    }
   ],
   "source": [
    "display(logs.head())\n",
    "logs.info()"
   ]
  },
  {
   "cell_type": "markdown",
   "metadata": {},
   "source": [
    "---\n",
    "### Вывод"
   ]
  },
  {
   "cell_type": "markdown",
   "metadata": {},
   "source": [
    "**заменили названия столбцов**\n",
    "- привели к нижнему регистру и к стилю: `слова_разделены_подчёркиванием`\n",
    "\n",
    "**преобразовали данные в нужные типы**\n",
    "- в столбце `logs['event_time']` перевели значения в специальный формат для работы с датами\n",
    "\n",
    "**обработали пропуски**\n",
    "- определили количество пропущенных значений в таблице для каждого столбца\n",
    "- пропусков не обнаружено\n",
    "\n",
    "**обработали дубликаты**\n",
    "- явные дубликаты отсутствуют\n",
    "- выявили неявные дубликаты\n",
    " - заменили `show_contacts` на `contacts_show` - это одно и тоже действие\n",
    " - заменили все варианты `search_N` на `search` - это все действия поиска, разделение в нашем исследование не нужно\n",
    " - проверим какие бывают источники привлечения пользователей\n",
    "  - - тут все в порядке: 3 источника `yandex, google, other`\n",
    "  \n",
    "**обработали редкие и выбивающиеся значения**\n",
    "- такие значения могут быть в столбце `event_time`\n",
    " - построили график `boxplot` - на нем не наблюдаем каких либо выбросов, оставим данные без изменений\n",
    "\n",
    "**объединили две таблицы в одну**\n",
    "- `mobile_dataset.csv` и `mobile_sourсes.csv`\n",
    " - теперь имеем полные данные в одной таблице, так намного удобнее работать в дальнейшем\n",
    " \n",
    "**добавим столбец с датой**\n",
    "- `event_dt` соответсвующей дате события `event_time`\n",
    "\n",
    "**отсортировали датафрейм по пользователям и времени события, это пригодится в дальнейшем исследовании**\n",
    "\n",
    "**оценили общую информацию по таблице после преобразований**\n",
    "- структура `logs`:\n",
    " - `event_time` — время события;\n",
    " - `event_name` — название события;\n",
    " - `user_id` — уникальный идентификатор пользователя;\n",
    " - `source` — источник привлечения пользователя в приложение\n",
    " - `event_dt` - дата события\n",
    " - **Таблица с 5 столбцами(1 временнОй и 4 строковых) и 74197 строками**\n",
    "---"
   ]
  },
  {
   "cell_type": "markdown",
   "metadata": {},
   "source": [
    "## Исследовательский анализ данных"
   ]
  },
  {
   "cell_type": "markdown",
   "metadata": {},
   "source": [
    "### Определим сколько всего событий в логе"
   ]
  },
  {
   "cell_type": "code",
   "execution_count": 18,
   "metadata": {},
   "outputs": [
    {
     "name": "stdout",
     "output_type": "stream",
     "text": [
      "событий в логе: 74197\n"
     ]
    }
   ],
   "source": [
    "print('событий в логе:', len(logs))"
   ]
  },
  {
   "cell_type": "markdown",
   "metadata": {},
   "source": [
    "**Всего `74197` событий в логе**"
   ]
  },
  {
   "cell_type": "markdown",
   "metadata": {},
   "source": [
    "### Определим сколько всего пользователей в логе"
   ]
  },
  {
   "cell_type": "code",
   "execution_count": 19,
   "metadata": {},
   "outputs": [
    {
     "name": "stdout",
     "output_type": "stream",
     "text": [
      "всего пользователей: 4293\n"
     ]
    }
   ],
   "source": [
    "print('всего пользователей:', logs['user_id'].nunique())"
   ]
  },
  {
   "cell_type": "markdown",
   "metadata": {},
   "source": [
    "**Всего `4293` пользователь в логе**"
   ]
  },
  {
   "cell_type": "markdown",
   "metadata": {},
   "source": [
    "### Определим сколько в среднем событий приходится на пользователя"
   ]
  },
  {
   "cell_type": "code",
   "execution_count": 20,
   "metadata": {},
   "outputs": [
    {
     "data": {
      "text/html": [
       "<div>\n",
       "<style scoped>\n",
       "    .dataframe tbody tr th:only-of-type {\n",
       "        vertical-align: middle;\n",
       "    }\n",
       "\n",
       "    .dataframe tbody tr th {\n",
       "        vertical-align: top;\n",
       "    }\n",
       "\n",
       "    .dataframe thead th {\n",
       "        text-align: right;\n",
       "    }\n",
       "</style>\n",
       "<table border=\"1\" class=\"dataframe\">\n",
       "  <thead>\n",
       "    <tr style=\"text-align: right;\">\n",
       "      <th></th>\n",
       "      <th>index</th>\n",
       "      <th>event_name</th>\n",
       "    </tr>\n",
       "  </thead>\n",
       "  <tbody>\n",
       "    <tr>\n",
       "      <th>0</th>\n",
       "      <td>count</td>\n",
       "      <td>4293.000000</td>\n",
       "    </tr>\n",
       "    <tr>\n",
       "      <th>1</th>\n",
       "      <td>mean</td>\n",
       "      <td>17.283252</td>\n",
       "    </tr>\n",
       "    <tr>\n",
       "      <th>2</th>\n",
       "      <td>std</td>\n",
       "      <td>29.130677</td>\n",
       "    </tr>\n",
       "    <tr>\n",
       "      <th>3</th>\n",
       "      <td>min</td>\n",
       "      <td>1.000000</td>\n",
       "    </tr>\n",
       "    <tr>\n",
       "      <th>4</th>\n",
       "      <td>25%</td>\n",
       "      <td>5.000000</td>\n",
       "    </tr>\n",
       "    <tr>\n",
       "      <th>5</th>\n",
       "      <td>50%</td>\n",
       "      <td>9.000000</td>\n",
       "    </tr>\n",
       "    <tr>\n",
       "      <th>6</th>\n",
       "      <td>75%</td>\n",
       "      <td>17.000000</td>\n",
       "    </tr>\n",
       "    <tr>\n",
       "      <th>7</th>\n",
       "      <td>max</td>\n",
       "      <td>478.000000</td>\n",
       "    </tr>\n",
       "  </tbody>\n",
       "</table>\n",
       "</div>"
      ],
      "text/plain": [
       "   index   event_name\n",
       "0  count  4293.000000\n",
       "1   mean    17.283252\n",
       "2    std    29.130677\n",
       "3    min     1.000000\n",
       "4    25%     5.000000\n",
       "5    50%     9.000000\n",
       "6    75%    17.000000\n",
       "7    max   478.000000"
      ]
     },
     "execution_count": 20,
     "metadata": {},
     "output_type": "execute_result"
    }
   ],
   "source": [
    "logs.groupby('user_id')['event_name'].count().reset_index()['event_name'].describe().reset_index()"
   ]
  },
  {
   "cell_type": "markdown",
   "metadata": {},
   "source": [
    "**В среднем на пользователя приходится `17` событий**\n",
    "\n",
    "**Медианное количество событий на пользователя `9`**"
   ]
  },
  {
   "cell_type": "markdown",
   "metadata": {},
   "source": [
    "### Определим период данных, которыми мы располагаем"
   ]
  },
  {
   "cell_type": "markdown",
   "metadata": {},
   "source": [
    "**Найдем максимальную и минимальную дату**"
   ]
  },
  {
   "cell_type": "code",
   "execution_count": 21,
   "metadata": {},
   "outputs": [
    {
     "name": "stdout",
     "output_type": "stream",
     "text": [
      "Максимальная дата: 2019-11-03\n",
      "Минимальная дата: 2019-10-07\n"
     ]
    }
   ],
   "source": [
    "print('Максимальная дата:', logs['event_dt'].max())\n",
    "print('Минимальная дата:', logs['event_dt'].min())"
   ]
  },
  {
   "cell_type": "markdown",
   "metadata": {},
   "source": [
    "Минимальная и максимальная даты привлечения пользователей **2019-10-07** и **2019-11-03**, соотвествуют датам из ТЗ"
   ]
  },
  {
   "cell_type": "markdown",
   "metadata": {},
   "source": [
    "### Построим гистограмму по дате и времени. Можно ли быть уверенным, что у нас одинаково полные данные за весь период?"
   ]
  },
  {
   "cell_type": "code",
   "execution_count": 22,
   "metadata": {},
   "outputs": [
    {
     "data": {
      "image/png": "[encoded data removed]",
      "text/plain": [
       "<Figure size 1000x500 with 1 Axes>"
      ]
     },
     "metadata": {},
     "output_type": "display_data"
    }
   ],
   "source": [
    "plt.figure(figsize=(10, 5))\n",
    "\n",
    "sns.histplot(logs['event_dt'])\n",
    "\n",
    "plt.grid()\n",
    "plt.xlabel('дата события', fontsize=15, color='blue')\n",
    "plt.ylabel('количество событий (шт.)', fontsize=15, color='blue')\n",
    "plt.xticks(ticks=logs['event_dt'].unique(), rotation=90, fontsize=10)\n",
    "plt.title('Количество событий в день', fontsize=15);"
   ]
  },
  {
   "cell_type": "markdown",
   "metadata": {},
   "source": [
    "**Данные за весь период с 2019-10-07 по 2019-11-03 однородны по наполненности, будем использовать для анализа данные за весь период**"
   ]
  },
  {
   "cell_type": "markdown",
   "metadata": {},
   "source": [
    "### Выделим сессии пользователей"
   ]
  },
  {
   "cell_type": "markdown",
   "metadata": {},
   "source": [
    "Выделим сессии пользователя, примем одну сессию равной календарному дню. Данная информация понадобить для исследования воронки событий"
   ]
  },
  {
   "cell_type": "code",
   "execution_count": 23,
   "metadata": {},
   "outputs": [
    {
     "data": {
      "text/html": [
       "<div>\n",
       "<style scoped>\n",
       "    .dataframe tbody tr th:only-of-type {\n",
       "        vertical-align: middle;\n",
       "    }\n",
       "\n",
       "    .dataframe tbody tr th {\n",
       "        vertical-align: top;\n",
       "    }\n",
       "\n",
       "    .dataframe thead th {\n",
       "        text-align: right;\n",
       "    }\n",
       "</style>\n",
       "<table border=\"1\" class=\"dataframe\">\n",
       "  <thead>\n",
       "    <tr style=\"text-align: right;\">\n",
       "      <th></th>\n",
       "      <th>user_id</th>\n",
       "      <th>session_dt</th>\n",
       "      <th>script</th>\n",
       "      <th>session_start</th>\n",
       "      <th>session_end</th>\n",
       "      <th>session_duration</th>\n",
       "      <th>session_week</th>\n",
       "    </tr>\n",
       "  </thead>\n",
       "  <tbody>\n",
       "    <tr>\n",
       "      <th>0</th>\n",
       "      <td>0001b1d5-b74a-4cbf-aeb0-7df5947bf349</td>\n",
       "      <td>2019-10-07</td>\n",
       "      <td>['tips_show']</td>\n",
       "      <td>2019-10-07 13:39:45.989359</td>\n",
       "      <td>2019-10-07 13:49:41.716617</td>\n",
       "      <td>9.9</td>\n",
       "      <td>41</td>\n",
       "    </tr>\n",
       "    <tr>\n",
       "      <th>1</th>\n",
       "      <td>0001b1d5-b74a-4cbf-aeb0-7df5947bf349</td>\n",
       "      <td>2019-10-09</td>\n",
       "      <td>['map' 'tips_show']</td>\n",
       "      <td>2019-10-09 18:33:55.577963</td>\n",
       "      <td>2019-10-09 18:42:22.963948</td>\n",
       "      <td>8.4</td>\n",
       "      <td>41</td>\n",
       "    </tr>\n",
       "    <tr>\n",
       "      <th>2</th>\n",
       "      <td>0001b1d5-b74a-4cbf-aeb0-7df5947bf349</td>\n",
       "      <td>2019-10-21</td>\n",
       "      <td>['tips_show' 'map']</td>\n",
       "      <td>2019-10-21 19:52:30.778932</td>\n",
       "      <td>2019-10-21 20:07:30.051028</td>\n",
       "      <td>15.0</td>\n",
       "      <td>43</td>\n",
       "    </tr>\n",
       "    <tr>\n",
       "      <th>3</th>\n",
       "      <td>0001b1d5-b74a-4cbf-aeb0-7df5947bf349</td>\n",
       "      <td>2019-10-22</td>\n",
       "      <td>['map' 'tips_show']</td>\n",
       "      <td>2019-10-22 11:18:14.635436</td>\n",
       "      <td>2019-10-22 11:30:52.807203</td>\n",
       "      <td>12.6</td>\n",
       "      <td>43</td>\n",
       "    </tr>\n",
       "    <tr>\n",
       "      <th>4</th>\n",
       "      <td>00157779-810c-4498-9e05-a1e9e3cedf93</td>\n",
       "      <td>2019-10-19</td>\n",
       "      <td>['search' 'photos_show']</td>\n",
       "      <td>2019-10-19 21:34:33.849769</td>\n",
       "      <td>2019-10-19 21:59:54.637098</td>\n",
       "      <td>25.3</td>\n",
       "      <td>42</td>\n",
       "    </tr>\n",
       "  </tbody>\n",
       "</table>\n",
       "</div>"
      ],
      "text/plain": [
       "                                user_id session_dt                    script  \\\n",
       "0  0001b1d5-b74a-4cbf-aeb0-7df5947bf349 2019-10-07             ['tips_show']   \n",
       "1  0001b1d5-b74a-4cbf-aeb0-7df5947bf349 2019-10-09       ['map' 'tips_show']   \n",
       "2  0001b1d5-b74a-4cbf-aeb0-7df5947bf349 2019-10-21       ['tips_show' 'map']   \n",
       "3  0001b1d5-b74a-4cbf-aeb0-7df5947bf349 2019-10-22       ['map' 'tips_show']   \n",
       "4  00157779-810c-4498-9e05-a1e9e3cedf93 2019-10-19  ['search' 'photos_show']   \n",
       "\n",
       "               session_start                session_end  session_duration  \\\n",
       "0 2019-10-07 13:39:45.989359 2019-10-07 13:49:41.716617               9.9   \n",
       "1 2019-10-09 18:33:55.577963 2019-10-09 18:42:22.963948               8.4   \n",
       "2 2019-10-21 19:52:30.778932 2019-10-21 20:07:30.051028              15.0   \n",
       "3 2019-10-22 11:18:14.635436 2019-10-22 11:30:52.807203              12.6   \n",
       "4 2019-10-19 21:34:33.849769 2019-10-19 21:59:54.637098              25.3   \n",
       "\n",
       "   session_week  \n",
       "0            41  \n",
       "1            41  \n",
       "2            43  \n",
       "3            43  \n",
       "4            42  "
      ]
     },
     "execution_count": 23,
     "metadata": {},
     "output_type": "execute_result"
    }
   ],
   "source": [
    "session = (logs.groupby(['user_id', 'event_dt']).agg(\n",
    "            {\n",
    "                'event_name': 'unique',\n",
    "                'event_time': ['min', 'max']\n",
    "            }\n",
    "        )\n",
    "        .reset_index()\n",
    "          )\n",
    "session['event_name'] = session['event_name'].astype('string')\n",
    "session = session.drop_duplicates().reset_index(drop=True)\n",
    "session.columns = ['user_id', 'session_dt', 'script', 'session_start', 'session_end']\n",
    "session['session_duration'] = (((session['session_end'] - session['session_start']).astype('timedelta64[s]')) / 60).round(1)\n",
    "session['session_week'] = session['session_dt'].dt.isocalendar().week\n",
    "\n",
    "session.head()"
   ]
  },
  {
   "cell_type": "markdown",
   "metadata": {},
   "source": [
    "### Создадим профили пользователей"
   ]
  },
  {
   "cell_type": "code",
   "execution_count": 24,
   "metadata": {},
   "outputs": [
    {
     "data": {
      "text/html": [
       "<div>\n",
       "<style scoped>\n",
       "    .dataframe tbody tr th:only-of-type {\n",
       "        vertical-align: middle;\n",
       "    }\n",
       "\n",
       "    .dataframe tbody tr th {\n",
       "        vertical-align: top;\n",
       "    }\n",
       "\n",
       "    .dataframe thead th {\n",
       "        text-align: right;\n",
       "    }\n",
       "</style>\n",
       "<table border=\"1\" class=\"dataframe\">\n",
       "  <thead>\n",
       "    <tr style=\"text-align: right;\">\n",
       "      <th></th>\n",
       "      <th>user_id</th>\n",
       "      <th>source</th>\n",
       "      <th>event_count</th>\n",
       "      <th>event_unique</th>\n",
       "      <th>session_count</th>\n",
       "      <th>is_contact_show</th>\n",
       "      <th>avg_session</th>\n",
       "    </tr>\n",
       "  </thead>\n",
       "  <tbody>\n",
       "    <tr>\n",
       "      <th>0</th>\n",
       "      <td>0001b1d5-b74a-4cbf-aeb0-7df5947bf349</td>\n",
       "      <td>other</td>\n",
       "      <td>35</td>\n",
       "      <td>['tips_show' 'map']</td>\n",
       "      <td>4</td>\n",
       "      <td>False</td>\n",
       "      <td>11.475000</td>\n",
       "    </tr>\n",
       "    <tr>\n",
       "      <th>1</th>\n",
       "      <td>00157779-810c-4498-9e05-a1e9e3cedf93</td>\n",
       "      <td>yandex</td>\n",
       "      <td>71</td>\n",
       "      <td>['search' 'photos_show' 'favorites_add' 'conta...</td>\n",
       "      <td>6</td>\n",
       "      <td>True</td>\n",
       "      <td>32.683333</td>\n",
       "    </tr>\n",
       "    <tr>\n",
       "      <th>2</th>\n",
       "      <td>00463033-5717-4bf1-91b4-09183923b9df</td>\n",
       "      <td>yandex</td>\n",
       "      <td>10</td>\n",
       "      <td>['photos_show']</td>\n",
       "      <td>1</td>\n",
       "      <td>False</td>\n",
       "      <td>24.700000</td>\n",
       "    </tr>\n",
       "    <tr>\n",
       "      <th>3</th>\n",
       "      <td>004690c3-5a84-4bb7-a8af-e0c8f8fca64e</td>\n",
       "      <td>google</td>\n",
       "      <td>32</td>\n",
       "      <td>['search' 'map' 'tips_show' 'advert_open']</td>\n",
       "      <td>6</td>\n",
       "      <td>False</td>\n",
       "      <td>215.583333</td>\n",
       "    </tr>\n",
       "    <tr>\n",
       "      <th>4</th>\n",
       "      <td>00551e79-152e-4441-9cf7-565d7eb04090</td>\n",
       "      <td>yandex</td>\n",
       "      <td>8</td>\n",
       "      <td>['contacts_show' 'contacts_call' 'search' 'pho...</td>\n",
       "      <td>3</td>\n",
       "      <td>True</td>\n",
       "      <td>3.100000</td>\n",
       "    </tr>\n",
       "  </tbody>\n",
       "</table>\n",
       "</div>"
      ],
      "text/plain": [
       "                                user_id  source  event_count  \\\n",
       "0  0001b1d5-b74a-4cbf-aeb0-7df5947bf349   other           35   \n",
       "1  00157779-810c-4498-9e05-a1e9e3cedf93  yandex           71   \n",
       "2  00463033-5717-4bf1-91b4-09183923b9df  yandex           10   \n",
       "3  004690c3-5a84-4bb7-a8af-e0c8f8fca64e  google           32   \n",
       "4  00551e79-152e-4441-9cf7-565d7eb04090  yandex            8   \n",
       "\n",
       "                                        event_unique  session_count  \\\n",
       "0                                ['tips_show' 'map']              4   \n",
       "1  ['search' 'photos_show' 'favorites_add' 'conta...              6   \n",
       "2                                    ['photos_show']              1   \n",
       "3         ['search' 'map' 'tips_show' 'advert_open']              6   \n",
       "4  ['contacts_show' 'contacts_call' 'search' 'pho...              3   \n",
       "\n",
       "   is_contact_show  avg_session  \n",
       "0            False    11.475000  \n",
       "1             True    32.683333  \n",
       "2            False    24.700000  \n",
       "3            False   215.583333  \n",
       "4             True     3.100000  "
      ]
     },
     "execution_count": 24,
     "metadata": {},
     "output_type": "execute_result"
    }
   ],
   "source": [
    "profiles = (\n",
    "    logs.groupby('user_id').agg(\n",
    "      {\n",
    "          'source': 'first',\n",
    "          'event_name': ['count', 'unique'],\n",
    "          'event_dt': 'nunique'\n",
    "      }\n",
    "    )\n",
    "    .reset_index()   \n",
    ")\n",
    "profiles.columns = ['user_id', 'source', 'event_count', 'event_unique', 'session_count']\n",
    "profiles['event_unique'] = profiles['event_unique'].astype('string')\n",
    "profiles['is_contact_show'] = profiles['event_unique'].apply(lambda x: True if 'contacts_show' in x else False)\n",
    "profiles = profiles.merge(\n",
    "    session.groupby('user_id')['session_duration'].mean().reset_index()\n",
    "    .rename(columns={'session_duration': 'avg_session'}),\n",
    "    on='user_id',\n",
    "    how='left'\n",
    ")\n",
    "\n",
    "profiles.head()"
   ]
  },
  {
   "cell_type": "markdown",
   "metadata": {},
   "source": [
    "### Расчитаем метрики пользовательской активности (DAU, WAU, Sticky factor, Среднее число сессий на пользователя)"
   ]
  },
  {
   "cell_type": "markdown",
   "metadata": {},
   "source": [
    "Посчитаем **DAU и WAU**. Сгруппируем данные по дате и неделе, посчитаем количество уникальных пользователей по столбцу `user_id` и найдём среднее"
   ]
  },
  {
   "cell_type": "code",
   "execution_count": 25,
   "metadata": {},
   "outputs": [],
   "source": [
    "dau_total = (\n",
    "    session.groupby('session_dt').agg({'user_id': 'nunique'}).reset_index()\n",
    ")\n",
    "\n",
    "wau_total = (\n",
    "    session.groupby(['session_week']).agg({'user_id': 'nunique'}).reset_index()\n",
    ")\n",
    "wau_total['session_week'] = wau_total['session_week'].astype('string')"
   ]
  },
  {
   "cell_type": "code",
   "execution_count": 26,
   "metadata": {},
   "outputs": [
    {
     "data": {
      "image/png": "[encoded data removed]"
     },
     "metadata": {},
     "output_type": "display_data"
    },
    {
     "name": "stdout",
     "output_type": "stream",
     "text": [
      "среднее количество пользователей в день: 279.0\n"
     ]
    }
   ],
   "source": [
    "fig = px.bar(dau_total, x='session_dt', y='user_id', text='user_id')\n",
    "fig.update_layout(title='Количество уникальных пользователей в день',\n",
    "                   xaxis_title='день',\n",
    "                   yaxis_title='количество пользователей')\n",
    "fig.update_xaxes(tickangle=45)\n",
    "fig.show()\n",
    "print('среднее количество пользователей в день:', (dau_total['user_id'].mean()).round())"
   ]
  },
  {
   "cell_type": "code",
   "execution_count": 27,
   "metadata": {},
   "outputs": [
    {
     "data": {
      "image/png": "[encoded data removed]"
     },
     "metadata": {},
     "output_type": "display_data"
    },
    {
     "name": "stdout",
     "output_type": "stream",
     "text": [
      "среднее количество пользователей в неделю: 1382.0\n"
     ]
    }
   ],
   "source": [
    "fig = px.bar(wau_total, x='session_week', y='user_id', text='user_id')\n",
    "fig.update_layout(title='Количество уникальных пользователей в неделю',\n",
    "                   xaxis_title='неделя',\n",
    "                   yaxis_title='количество пользователей')\n",
    "fig.update_xaxes(tickangle=45)\n",
    "fig.show()\n",
    "print('среднее количество пользователей в неделю:', (wau_total['user_id'].mean()).round())"
   ]
  },
  {
   "cell_type": "markdown",
   "metadata": {},
   "source": [
    "- **DAU**(количество уникальных пользователей в день) в среднем **279** пользователей\n",
    "- **WAU**(количество уникальных пользователей в неделю) в среднем **1382** пользователя\n",
    "- динамика в целом положительная, что должно хорошо сказываться на продукте"
   ]
  },
  {
   "cell_type": "markdown",
   "metadata": {},
   "source": [
    "Найдем метрику **Sticky factor** отражает регулярность использования приложения и для недельной аудитории рассчитывается как DAU/WAU"
   ]
  },
  {
   "cell_type": "code",
   "execution_count": 28,
   "metadata": {},
   "outputs": [
    {
     "name": "stdout",
     "output_type": "stream",
     "text": [
      "20.19\n"
     ]
    }
   ],
   "source": [
    "print((dau_total['user_id'].mean() / wau_total['user_id'].mean() * 100).round(2))"
   ]
  },
  {
   "cell_type": "markdown",
   "metadata": {},
   "source": [
    "- **Sticky factor - 20.19**"
   ]
  },
  {
   "cell_type": "markdown",
   "metadata": {},
   "source": [
    "**Определим среднее число сессий на пользователя в месяц и неделю**"
   ]
  },
  {
   "cell_type": "markdown",
   "metadata": {},
   "source": [
    "В нашем распоряжении данные с 2019-10-07 по 2019-11-03 (4 недели), поэтому среднее количество сессий на человека в месяц у нас:"
   ]
  },
  {
   "cell_type": "code",
   "execution_count": 29,
   "metadata": {},
   "outputs": [
    {
     "data": {
      "text/html": [
       "<div>\n",
       "<style scoped>\n",
       "    .dataframe tbody tr th:only-of-type {\n",
       "        vertical-align: middle;\n",
       "    }\n",
       "\n",
       "    .dataframe tbody tr th {\n",
       "        vertical-align: top;\n",
       "    }\n",
       "\n",
       "    .dataframe thead th {\n",
       "        text-align: right;\n",
       "    }\n",
       "</style>\n",
       "<table border=\"1\" class=\"dataframe\">\n",
       "  <thead>\n",
       "    <tr style=\"text-align: right;\">\n",
       "      <th></th>\n",
       "      <th>index</th>\n",
       "      <th>session_count</th>\n",
       "    </tr>\n",
       "  </thead>\n",
       "  <tbody>\n",
       "    <tr>\n",
       "      <th>0</th>\n",
       "      <td>count</td>\n",
       "      <td>4293.000000</td>\n",
       "    </tr>\n",
       "    <tr>\n",
       "      <th>1</th>\n",
       "      <td>mean</td>\n",
       "      <td>1.820871</td>\n",
       "    </tr>\n",
       "    <tr>\n",
       "      <th>2</th>\n",
       "      <td>std</td>\n",
       "      <td>1.762537</td>\n",
       "    </tr>\n",
       "    <tr>\n",
       "      <th>3</th>\n",
       "      <td>min</td>\n",
       "      <td>1.000000</td>\n",
       "    </tr>\n",
       "    <tr>\n",
       "      <th>4</th>\n",
       "      <td>25%</td>\n",
       "      <td>1.000000</td>\n",
       "    </tr>\n",
       "    <tr>\n",
       "      <th>5</th>\n",
       "      <td>50%</td>\n",
       "      <td>1.000000</td>\n",
       "    </tr>\n",
       "    <tr>\n",
       "      <th>6</th>\n",
       "      <td>75%</td>\n",
       "      <td>2.000000</td>\n",
       "    </tr>\n",
       "    <tr>\n",
       "      <th>7</th>\n",
       "      <td>max</td>\n",
       "      <td>25.000000</td>\n",
       "    </tr>\n",
       "  </tbody>\n",
       "</table>\n",
       "</div>"
      ],
      "text/plain": [
       "   index  session_count\n",
       "0  count    4293.000000\n",
       "1   mean       1.820871\n",
       "2    std       1.762537\n",
       "3    min       1.000000\n",
       "4    25%       1.000000\n",
       "5    50%       1.000000\n",
       "6    75%       2.000000\n",
       "7    max      25.000000"
      ]
     },
     "execution_count": 29,
     "metadata": {},
     "output_type": "execute_result"
    }
   ],
   "source": [
    "profiles['session_count'].describe().reset_index()"
   ]
  },
  {
   "cell_type": "markdown",
   "metadata": {},
   "source": [
    "- среднее число сессий на пользователя в месяц **1.8** сессии\n",
    "- медианное число сессий на пользователя в месяц **1** сессия"
   ]
  },
  {
   "cell_type": "markdown",
   "metadata": {},
   "source": [
    "**Среднее число сессий на человека в неделю**"
   ]
  },
  {
   "cell_type": "code",
   "execution_count": 30,
   "metadata": {},
   "outputs": [
    {
     "data": {
      "text/html": [
       "<div>\n",
       "<style scoped>\n",
       "    .dataframe tbody tr th:only-of-type {\n",
       "        vertical-align: middle;\n",
       "    }\n",
       "\n",
       "    .dataframe tbody tr th {\n",
       "        vertical-align: top;\n",
       "    }\n",
       "\n",
       "    .dataframe thead th {\n",
       "        text-align: right;\n",
       "    }\n",
       "</style>\n",
       "<table border=\"1\" class=\"dataframe\">\n",
       "  <thead>\n",
       "    <tr style=\"text-align: right;\">\n",
       "      <th></th>\n",
       "      <th>n_sessions</th>\n",
       "      <th>n_users</th>\n",
       "      <th>sessions_per_user</th>\n",
       "    </tr>\n",
       "    <tr>\n",
       "      <th>session_week</th>\n",
       "      <th></th>\n",
       "      <th></th>\n",
       "      <th></th>\n",
       "    </tr>\n",
       "  </thead>\n",
       "  <tbody>\n",
       "    <tr>\n",
       "      <th>41</th>\n",
       "      <td>1478</td>\n",
       "      <td>1130</td>\n",
       "      <td>1.307965</td>\n",
       "    </tr>\n",
       "    <tr>\n",
       "      <th>42</th>\n",
       "      <td>2039</td>\n",
       "      <td>1438</td>\n",
       "      <td>1.417942</td>\n",
       "    </tr>\n",
       "    <tr>\n",
       "      <th>43</th>\n",
       "      <td>2198</td>\n",
       "      <td>1546</td>\n",
       "      <td>1.421734</td>\n",
       "    </tr>\n",
       "    <tr>\n",
       "      <th>44</th>\n",
       "      <td>2102</td>\n",
       "      <td>1416</td>\n",
       "      <td>1.484463</td>\n",
       "    </tr>\n",
       "  </tbody>\n",
       "</table>\n",
       "</div>"
      ],
      "text/plain": [
       "              n_sessions  n_users  sessions_per_user\n",
       "session_week                                        \n",
       "41                  1478     1130           1.307965\n",
       "42                  2039     1438           1.417942\n",
       "43                  2198     1546           1.421734\n",
       "44                  2102     1416           1.484463"
      ]
     },
     "execution_count": 30,
     "metadata": {},
     "output_type": "execute_result"
    }
   ],
   "source": [
    "sessions_per_user = session.groupby('session_week').agg(\n",
    "    {'user_id': ['count', 'nunique']}\n",
    ")\n",
    "sessions_per_user.columns = ['n_sessions', 'n_users']\n",
    "# делим число сессий на количество пользователей\n",
    "sessions_per_user['sessions_per_user'] = (\n",
    "    sessions_per_user['n_sessions'] / sessions_per_user['n_users']\n",
    ")\n",
    "\n",
    "sessions_per_user"
   ]
  },
  {
   "cell_type": "markdown",
   "metadata": {},
   "source": [
    "- среднее число сессий на человека в неделю от **1.3 до 1.48** сессии"
   ]
  },
  {
   "cell_type": "markdown",
   "metadata": {},
   "source": [
    "**Определим медианную продолжительность сессии `MSL`**"
   ]
  },
  {
   "cell_type": "code",
   "execution_count": 31,
   "metadata": {},
   "outputs": [
    {
     "data": {
      "text/plain": [
       "16.459999999999997"
      ]
     },
     "execution_count": 31,
     "metadata": {},
     "output_type": "execute_result"
    }
   ],
   "source": [
    "profiles['avg_session'].median()"
   ]
  },
  {
   "cell_type": "markdown",
   "metadata": {},
   "source": [
    "- медианная продолжительность сессии около **16.5 минут**, неплохой результат"
   ]
  },
  {
   "cell_type": "markdown",
   "metadata": {},
   "source": [
    "### Изучим источники привлечения и определим каналы, из которых пришло больше всего пользователей. Построим таблицу, отражающую количество пользователей и долю для каждого канала привлечения"
   ]
  },
  {
   "cell_type": "code",
   "execution_count": 32,
   "metadata": {},
   "outputs": [
    {
     "data": {
      "text/html": [
       "<div>\n",
       "<style scoped>\n",
       "    .dataframe tbody tr th:only-of-type {\n",
       "        vertical-align: middle;\n",
       "    }\n",
       "\n",
       "    .dataframe tbody tr th {\n",
       "        vertical-align: top;\n",
       "    }\n",
       "\n",
       "    .dataframe thead th {\n",
       "        text-align: right;\n",
       "    }\n",
       "</style>\n",
       "<table border=\"1\" class=\"dataframe\">\n",
       "  <thead>\n",
       "    <tr style=\"text-align: right;\">\n",
       "      <th></th>\n",
       "      <th>source</th>\n",
       "      <th>user_count</th>\n",
       "      <th>%</th>\n",
       "    </tr>\n",
       "  </thead>\n",
       "  <tbody>\n",
       "    <tr>\n",
       "      <th>0</th>\n",
       "      <td>yandex</td>\n",
       "      <td>1934</td>\n",
       "      <td>45.1</td>\n",
       "    </tr>\n",
       "    <tr>\n",
       "      <th>1</th>\n",
       "      <td>other</td>\n",
       "      <td>1230</td>\n",
       "      <td>28.7</td>\n",
       "    </tr>\n",
       "    <tr>\n",
       "      <th>2</th>\n",
       "      <td>google</td>\n",
       "      <td>1129</td>\n",
       "      <td>26.3</td>\n",
       "    </tr>\n",
       "  </tbody>\n",
       "</table>\n",
       "</div>"
      ],
      "text/plain": [
       "   source  user_count     %\n",
       "0  yandex        1934  45.1\n",
       "1   other        1230  28.7\n",
       "2  google        1129  26.3"
      ]
     },
     "execution_count": 32,
     "metadata": {},
     "output_type": "execute_result"
    }
   ],
   "source": [
    "channels = (\n",
    "    logs.groupby('source')['user_id'].nunique().to_frame()\n",
    "    .rename(columns={'user_id': 'user_count'})\n",
    "    .sort_values(by='user_count', ascending=False)\n",
    ").reset_index()\n",
    "channels['%'] = round(channels['user_count'] / logs['user_id'].nunique() * 100, 1)\n",
    "\n",
    "channels"
   ]
  },
  {
   "cell_type": "code",
   "execution_count": 33,
   "metadata": {},
   "outputs": [
    {
     "data": {
      "image/png": "[encoded data removed]"
     },
     "metadata": {},
     "output_type": "display_data"
    }
   ],
   "source": [
    "fig = make_subplots(rows=1, cols=2, specs=[[{'type':'bar'}, {'type':'pie'}]])\n",
    "\n",
    "fig.add_trace(go.Bar(x=channels['user_count'].sort_values(), y=channels.sort_values(by='user_count')['source'], orientation='h',\n",
    "              text=channels['user_count'].sort_values(), marker=dict(color=bam_color[::-1])),\n",
    "              row=1, col=1)\n",
    "\n",
    "fig.add_trace(go.Pie(labels=channels['source'], values=channels['user_count'], pull = [0.1, 0]),\n",
    "              row=1, col=2)\n",
    "\n",
    "fig.update_traces(textposition='inside', textinfo='percent+label', row=1, col=2)\n",
    "fig.update_xaxes(title='Количество пользователей, шт.' ,row=1, col=1)\n",
    "fig.update_layout(title='Распределение пользователей по источникам привлечения',\n",
    "                  width=980,\n",
    "                  height=600, showlegend=False)\n",
    "\n",
    "fig.show()"
   ]
  },
  {
   "cell_type": "code",
   "execution_count": 34,
   "metadata": {},
   "outputs": [],
   "source": [
    "# определим свою цветовую гамму для графиков проекта\n",
    "bam_color = ['#3C6255','#9E6F21', '#A4D0A4'] #, '#EAE7B1', '#CCD5AE', '#617A55', '#FEE8B0', '#B8E7E1']  # палитра цветов\n",
    "pio.templates['bam'] = go.layout.Template(layout_colorway=bam_color)\n",
    "pio.templates.default = \"plotly_white+bam\""
   ]
  },
  {
   "cell_type": "markdown",
   "metadata": {},
   "source": [
    "**Пользователи приходят в приложение из 3(трех) различных источников:**  \n",
    "- на первом месте по количеству пользователей **yandex - 1934 (45.1%)** пользователей\n",
    "- на втором месте **other - 1230 (28.7%)** пользователей\n",
    "- на третьем месте **google - 1129 (26.3%)**\n",
    "- заметно среди всех источников выделяется лидер **Yandex**, почти половина пользователей приходит с этого канала"
   ]
  },
  {
   "cell_type": "markdown",
   "metadata": {},
   "source": [
    "---\n",
    "### Вывод"
   ]
  },
  {
   "cell_type": "markdown",
   "metadata": {},
   "source": [
    "**определили сколько всего событий в логе**\n",
    "- всего **74197** событий в логе\n",
    "\n",
    "**определили сколько всего пользователей в логе**\n",
    "- всего **4293** пользователь в логе\n",
    "\n",
    "**определили сколько в среднем событий приходится на пользователя**\n",
    "- в среднем на пользователя приходится **17** событий\n",
    "- медианное количество событий на пользователя **9**\n",
    "\n",
    "**определили период данных, которыми мы располагаем**\n",
    "- минимальная и максимальная даты привлечения пользователей **2019-10-07 и 2019-11-03**, соотвествуют датам из ТЗ\n",
    "\n",
    "**построили гистограмму по дате и времени. Можно ли быть уверенным, что у нас одинаково полные данные за весь период?**\n",
    "- данные за весь период с **2019-10-07 по 2019-11-03** однородны по наполненности, будем использовать для анализа данные за весь период\n",
    "\n",
    "**выделили сессии пользователей**\n",
    "- приняли **одну сессию равной календарному дню**. Данная информация понадобить для исследования воронки событий\n",
    "\n",
    "**создали профили пользователей**\n",
    "- `user_id` - пользователи\n",
    "- `source` - источник привлечения\n",
    "- `event_count` - количество событий\n",
    "- `event_unique` - список уникальных событий\t\n",
    "- `session_count` - количество сессий\n",
    "- `is_contact_show` - маркер целевого события\n",
    "- `avg_session` - средняя продолжительность сессии\n",
    "\n",
    "**расчитаем метрики пользовательской активности**\n",
    "- **DAU**(количество уникальных пользователей в день) **279** пользователей\n",
    "- **WAU**(количество уникальных пользователей в неделю) **1382** пользователя\n",
    "- динамика в целом положительная, что должно хорошо сказываться на продукте\n",
    "- **Sticky factor - 20.19**\n",
    "- среднее число сессий на пользователя в месяц **1.8** сессии\n",
    "- медианное число сессий на пользователя в месяц **1** сессия\n",
    "- среднее число сессий на человека в неделю от **1.3 до 1.48** сессии\n",
    "- медианная продолжительность сессии около **16.5 минут**, неплохой результат\n",
    "\n",
    "**изучили источники привлечения и определили каналы, из которых пришло больше всего пользователей. Построили таблицу, отражающую количество пользователей и долю для каждого канала привлечения**\n",
    "\n",
    "**Пользователи приходят в приложение из 3(трех) различных источников:**  \n",
    "- на первом месте по количеству пользователей **yandex - 1934 (45.1%)** пользователей\n",
    "- на втором месте **other - 1230 (28.7%)** пользователей\n",
    "- на третьем месте **google - 1129 (26.3%)**\n",
    "- заметно среди всех источников выделяется лидер **Yandex**, почти половина пользователей приходит с этого канала\n",
    "---"
   ]
  },
  {
   "cell_type": "markdown",
   "metadata": {},
   "source": [
    "## Исследование воронки событий"
   ]
  },
  {
   "cell_type": "markdown",
   "metadata": {},
   "source": [
    "### Выделим самые популярные сценарии, включающие целевое событие `contacts_show`"
   ]
  },
  {
   "cell_type": "code",
   "execution_count": 35,
   "metadata": {},
   "outputs": [
    {
     "data": {
      "text/html": [
       "<div>\n",
       "<style scoped>\n",
       "    .dataframe tbody tr th:only-of-type {\n",
       "        vertical-align: middle;\n",
       "    }\n",
       "\n",
       "    .dataframe tbody tr th {\n",
       "        vertical-align: top;\n",
       "    }\n",
       "\n",
       "    .dataframe thead th {\n",
       "        text-align: right;\n",
       "    }\n",
       "</style>\n",
       "<table border=\"1\" class=\"dataframe\">\n",
       "  <thead>\n",
       "    <tr style=\"text-align: right;\">\n",
       "      <th></th>\n",
       "      <th>index</th>\n",
       "      <th>script</th>\n",
       "    </tr>\n",
       "  </thead>\n",
       "  <tbody>\n",
       "    <tr>\n",
       "      <th>0</th>\n",
       "      <td>['tips_show' 'contacts_show']</td>\n",
       "      <td>240</td>\n",
       "    </tr>\n",
       "    <tr>\n",
       "      <th>1</th>\n",
       "      <td>['contacts_show']</td>\n",
       "      <td>116</td>\n",
       "    </tr>\n",
       "    <tr>\n",
       "      <th>2</th>\n",
       "      <td>['map' 'tips_show' 'contacts_show']</td>\n",
       "      <td>85</td>\n",
       "    </tr>\n",
       "    <tr>\n",
       "      <th>3</th>\n",
       "      <td>['photos_show' 'contacts_show']</td>\n",
       "      <td>74</td>\n",
       "    </tr>\n",
       "    <tr>\n",
       "      <th>4</th>\n",
       "      <td>['contacts_show' 'contacts_call']</td>\n",
       "      <td>65</td>\n",
       "    </tr>\n",
       "    <tr>\n",
       "      <th>5</th>\n",
       "      <td>['contacts_show' 'tips_show']</td>\n",
       "      <td>46</td>\n",
       "    </tr>\n",
       "    <tr>\n",
       "      <th>6</th>\n",
       "      <td>['search' 'contacts_show' 'contacts_call']</td>\n",
       "      <td>42</td>\n",
       "    </tr>\n",
       "    <tr>\n",
       "      <th>7</th>\n",
       "      <td>['photos_show' 'contacts_show' 'contacts_call']</td>\n",
       "      <td>40</td>\n",
       "    </tr>\n",
       "    <tr>\n",
       "      <th>8</th>\n",
       "      <td>['search' 'photos_show' 'contacts_show']</td>\n",
       "      <td>40</td>\n",
       "    </tr>\n",
       "    <tr>\n",
       "      <th>9</th>\n",
       "      <td>['search' 'contacts_show']</td>\n",
       "      <td>40</td>\n",
       "    </tr>\n",
       "    <tr>\n",
       "      <th>10</th>\n",
       "      <td>['contacts_show' 'photos_show']</td>\n",
       "      <td>33</td>\n",
       "    </tr>\n",
       "    <tr>\n",
       "      <th>11</th>\n",
       "      <td>['search' 'tips_show' 'contacts_show']</td>\n",
       "      <td>33</td>\n",
       "    </tr>\n",
       "    <tr>\n",
       "      <th>12</th>\n",
       "      <td>['tips_show' 'contacts_show' 'map']</td>\n",
       "      <td>31</td>\n",
       "    </tr>\n",
       "    <tr>\n",
       "      <th>13</th>\n",
       "      <td>['contacts_show' 'contacts_call' 'photos_show']</td>\n",
       "      <td>29</td>\n",
       "    </tr>\n",
       "    <tr>\n",
       "      <th>14</th>\n",
       "      <td>['tips_show' 'map' 'contacts_show']</td>\n",
       "      <td>26</td>\n",
       "    </tr>\n",
       "  </tbody>\n",
       "</table>\n",
       "</div>"
      ],
      "text/plain": [
       "                                              index  script\n",
       "0                     ['tips_show' 'contacts_show']     240\n",
       "1                                 ['contacts_show']     116\n",
       "2               ['map' 'tips_show' 'contacts_show']      85\n",
       "3                   ['photos_show' 'contacts_show']      74\n",
       "4                 ['contacts_show' 'contacts_call']      65\n",
       "5                     ['contacts_show' 'tips_show']      46\n",
       "6        ['search' 'contacts_show' 'contacts_call']      42\n",
       "7   ['photos_show' 'contacts_show' 'contacts_call']      40\n",
       "8          ['search' 'photos_show' 'contacts_show']      40\n",
       "9                        ['search' 'contacts_show']      40\n",
       "10                  ['contacts_show' 'photos_show']      33\n",
       "11           ['search' 'tips_show' 'contacts_show']      33\n",
       "12              ['tips_show' 'contacts_show' 'map']      31\n",
       "13  ['contacts_show' 'contacts_call' 'photos_show']      29\n",
       "14              ['tips_show' 'map' 'contacts_show']      26"
      ]
     },
     "execution_count": 35,
     "metadata": {},
     "output_type": "execute_result"
    }
   ],
   "source": [
    "top_script = session[session['script'].str.contains('contacts_show')]['script'].value_counts().reset_index().head(15)\n",
    "top_script"
   ]
  },
  {
   "cell_type": "markdown",
   "metadata": {},
   "source": [
    "- наиболее популярные сценарии\n",
    " - **tips_show -> contacts_show**\n",
    " - **map -> tips_show -> contacts_show**\n",
    " - **photos_show -> contacts_show**"
   ]
  },
  {
   "cell_type": "markdown",
   "metadata": {},
   "source": [
    "### Посчитаем, сколько пользователей совершали каждое из этих событий. Отсортируем события по числу пользователей. Посчитаем долю пользователей, которые хоть раз совершали событие. По воронке событий посчитаем, какая доля пользователей проходит на следующий шаг воронки"
   ]
  },
  {
   "cell_type": "code",
   "execution_count": 36,
   "metadata": {},
   "outputs": [],
   "source": [
    "#интересующие нас события, входящие в популярные сценарии\n",
    "event_list_1 = ['tips_show', 'contacts_show']\n",
    "event_list_2 = ['map', 'tips_show', 'contacts_show']\n",
    "event_list_3 = ['photos_show', 'contacts_show']"
   ]
  },
  {
   "cell_type": "code",
   "execution_count": 37,
   "metadata": {},
   "outputs": [
    {
     "name": "stdout",
     "output_type": "stream",
     "text": [
      "всего пользователей: 4293\n"
     ]
    }
   ],
   "source": [
    "print('всего пользователей:', logs['user_id'].nunique())"
   ]
  },
  {
   "cell_type": "code",
   "execution_count": 38,
   "metadata": {},
   "outputs": [],
   "source": [
    "#фунция для:\n",
    "#подсчета количество уникальных пользователей совершивших событие,\n",
    "#подсчета конверсии 'в шаг',\n",
    "#визуализация воронки событий \n",
    "def product_funnel_func(logs, event_list):\n",
    "    #фильтруем датафрейм по пользователям, которые совершают первое событие\n",
    "    users = logs[logs['event_name'] == event_list[0]]['user_id'].unique()\n",
    "    \n",
    "    # считаем количество уникальных пользователей совершивших событие из группы отфильтрованных пользователей\n",
    "    events = (\n",
    "        logs[logs['user_id'].isin(users)].groupby('event_name')['user_id'].nunique()\n",
    "        .reset_index()\n",
    "        .rename(columns={'user_id': 'user_count'})\n",
    "    )\n",
    "    events = events.query('event_name in @event_list').set_index('event_name')\n",
    "    events['%'] = round(events['user_count'] /  len(users) * 100, 1)\n",
    "    events = events.reindex(event_list).reset_index()\n",
    "    display(events)\n",
    "    \n",
    "    # считаем конверсию 'в шаг'\n",
    "    events['conversion, %'] = round(events['user_count'] / events['user_count'].shift(1) * 100, 1)\n",
    "    events.loc[0, 'conversion, %'] = 100\n",
    "    events = events.drop(columns='%')\n",
    "    display(events)\n",
    "    \n",
    "    #визуализируем воронку событий\n",
    "    fig = go.Figure()\n",
    "    fig.add_trace(go.Funnel(x=events['conversion, %'], y=events['event_name']))\n",
    "    fig.update_layout(\n",
    "        title={\n",
    "            'text': \"Продуктовая воронка\",\n",
    "            'y':0.9,\n",
    "            'x':0.5,\n",
    "            'xanchor': 'center',\n",
    "            'yanchor': 'top'},\n",
    "        yaxis_title=\"событие\",\n",
    "    )\n",
    "    fig.show()"
   ]
  },
  {
   "cell_type": "markdown",
   "metadata": {},
   "source": [
    "**Рассмотрим первый (самый популярный сценарий) `tips_show -> contacts_show`**"
   ]
  },
  {
   "cell_type": "code",
   "execution_count": 39,
   "metadata": {},
   "outputs": [
    {
     "data": {
      "text/html": [
       "<div>\n",
       "<style scoped>\n",
       "    .dataframe tbody tr th:only-of-type {\n",
       "        vertical-align: middle;\n",
       "    }\n",
       "\n",
       "    .dataframe tbody tr th {\n",
       "        vertical-align: top;\n",
       "    }\n",
       "\n",
       "    .dataframe thead th {\n",
       "        text-align: right;\n",
       "    }\n",
       "</style>\n",
       "<table border=\"1\" class=\"dataframe\">\n",
       "  <thead>\n",
       "    <tr style=\"text-align: right;\">\n",
       "      <th></th>\n",
       "      <th>event_name</th>\n",
       "      <th>user_count</th>\n",
       "      <th>%</th>\n",
       "    </tr>\n",
       "  </thead>\n",
       "  <tbody>\n",
       "    <tr>\n",
       "      <th>0</th>\n",
       "      <td>tips_show</td>\n",
       "      <td>2801</td>\n",
       "      <td>100.0</td>\n",
       "    </tr>\n",
       "    <tr>\n",
       "      <th>1</th>\n",
       "      <td>contacts_show</td>\n",
       "      <td>516</td>\n",
       "      <td>18.4</td>\n",
       "    </tr>\n",
       "  </tbody>\n",
       "</table>\n",
       "</div>"
      ],
      "text/plain": [
       "      event_name  user_count      %\n",
       "0      tips_show        2801  100.0\n",
       "1  contacts_show         516   18.4"
      ]
     },
     "metadata": {},
     "output_type": "display_data"
    },
    {
     "data": {
      "text/html": [
       "<div>\n",
       "<style scoped>\n",
       "    .dataframe tbody tr th:only-of-type {\n",
       "        vertical-align: middle;\n",
       "    }\n",
       "\n",
       "    .dataframe tbody tr th {\n",
       "        vertical-align: top;\n",
       "    }\n",
       "\n",
       "    .dataframe thead th {\n",
       "        text-align: right;\n",
       "    }\n",
       "</style>\n",
       "<table border=\"1\" class=\"dataframe\">\n",
       "  <thead>\n",
       "    <tr style=\"text-align: right;\">\n",
       "      <th></th>\n",
       "      <th>event_name</th>\n",
       "      <th>user_count</th>\n",
       "      <th>conversion, %</th>\n",
       "    </tr>\n",
       "  </thead>\n",
       "  <tbody>\n",
       "    <tr>\n",
       "      <th>0</th>\n",
       "      <td>tips_show</td>\n",
       "      <td>2801</td>\n",
       "      <td>100.0</td>\n",
       "    </tr>\n",
       "    <tr>\n",
       "      <th>1</th>\n",
       "      <td>contacts_show</td>\n",
       "      <td>516</td>\n",
       "      <td>18.4</td>\n",
       "    </tr>\n",
       "  </tbody>\n",
       "</table>\n",
       "</div>"
      ],
      "text/plain": [
       "      event_name  user_count  conversion, %\n",
       "0      tips_show        2801          100.0\n",
       "1  contacts_show         516           18.4"
      ]
     },
     "metadata": {},
     "output_type": "display_data"
    },
    {
     "data": {
      "image/png": "[encoded data removed]"
     },
     "metadata": {},
     "output_type": "display_data"
    }
   ],
   "source": [
    "product_funnel_func(logs, event_list_1)"
   ]
  },
  {
   "cell_type": "markdown",
   "metadata": {},
   "source": [
    "- пользователи, учавствующие в событии **tips_show - 2801 пользователей (100%)**\n",
    "- делее идет событие **contacts_show - 516 пользователей (18.4%)**\n",
    "- конверсия в шаг выглядит следующим образом:\n",
    " - **tips_show** - 2801 пользователей **100%** конверсии в шаг\n",
    " - **contacts_show** - 516 пользователей **18.4%** конверсии в шаг\n",
    "- наблюдаем большую просадку в этом сценарии между шагами `tips_show -> contacts_show` - **теряем 81.6% пользователей**"
   ]
  },
  {
   "cell_type": "markdown",
   "metadata": {},
   "source": [
    "**Рассмотрим второй сценарий `map -> tips_show -> contacts_show`**"
   ]
  },
  {
   "cell_type": "code",
   "execution_count": 40,
   "metadata": {},
   "outputs": [
    {
     "data": {
      "text/html": [
       "<div>\n",
       "<style scoped>\n",
       "    .dataframe tbody tr th:only-of-type {\n",
       "        vertical-align: middle;\n",
       "    }\n",
       "\n",
       "    .dataframe tbody tr th {\n",
       "        vertical-align: top;\n",
       "    }\n",
       "\n",
       "    .dataframe thead th {\n",
       "        text-align: right;\n",
       "    }\n",
       "</style>\n",
       "<table border=\"1\" class=\"dataframe\">\n",
       "  <thead>\n",
       "    <tr style=\"text-align: right;\">\n",
       "      <th></th>\n",
       "      <th>event_name</th>\n",
       "      <th>user_count</th>\n",
       "      <th>%</th>\n",
       "    </tr>\n",
       "  </thead>\n",
       "  <tbody>\n",
       "    <tr>\n",
       "      <th>0</th>\n",
       "      <td>map</td>\n",
       "      <td>1456</td>\n",
       "      <td>100.0</td>\n",
       "    </tr>\n",
       "    <tr>\n",
       "      <th>1</th>\n",
       "      <td>tips_show</td>\n",
       "      <td>1352</td>\n",
       "      <td>92.9</td>\n",
       "    </tr>\n",
       "    <tr>\n",
       "      <th>2</th>\n",
       "      <td>contacts_show</td>\n",
       "      <td>289</td>\n",
       "      <td>19.8</td>\n",
       "    </tr>\n",
       "  </tbody>\n",
       "</table>\n",
       "</div>"
      ],
      "text/plain": [
       "      event_name  user_count      %\n",
       "0            map        1456  100.0\n",
       "1      tips_show        1352   92.9\n",
       "2  contacts_show         289   19.8"
      ]
     },
     "metadata": {},
     "output_type": "display_data"
    },
    {
     "data": {
      "text/html": [
       "<div>\n",
       "<style scoped>\n",
       "    .dataframe tbody tr th:only-of-type {\n",
       "        vertical-align: middle;\n",
       "    }\n",
       "\n",
       "    .dataframe tbody tr th {\n",
       "        vertical-align: top;\n",
       "    }\n",
       "\n",
       "    .dataframe thead th {\n",
       "        text-align: right;\n",
       "    }\n",
       "</style>\n",
       "<table border=\"1\" class=\"dataframe\">\n",
       "  <thead>\n",
       "    <tr style=\"text-align: right;\">\n",
       "      <th></th>\n",
       "      <th>event_name</th>\n",
       "      <th>user_count</th>\n",
       "      <th>conversion, %</th>\n",
       "    </tr>\n",
       "  </thead>\n",
       "  <tbody>\n",
       "    <tr>\n",
       "      <th>0</th>\n",
       "      <td>map</td>\n",
       "      <td>1456</td>\n",
       "      <td>100.0</td>\n",
       "    </tr>\n",
       "    <tr>\n",
       "      <th>1</th>\n",
       "      <td>tips_show</td>\n",
       "      <td>1352</td>\n",
       "      <td>92.9</td>\n",
       "    </tr>\n",
       "    <tr>\n",
       "      <th>2</th>\n",
       "      <td>contacts_show</td>\n",
       "      <td>289</td>\n",
       "      <td>21.4</td>\n",
       "    </tr>\n",
       "  </tbody>\n",
       "</table>\n",
       "</div>"
      ],
      "text/plain": [
       "      event_name  user_count  conversion, %\n",
       "0            map        1456          100.0\n",
       "1      tips_show        1352           92.9\n",
       "2  contacts_show         289           21.4"
      ]
     },
     "metadata": {},
     "output_type": "display_data"
    },
    {
     "data": {
      "image/png": "[encoded data removed]"
     },
     "metadata": {},
     "output_type": "display_data"
    }
   ],
   "source": [
    "product_funnel_func(logs, event_list_2)"
   ]
  },
  {
   "cell_type": "markdown",
   "metadata": {},
   "source": [
    "- пользователи, учавствующие в событии **map - 1456 пользователей (100%)**\n",
    "- далее идет событие **tips_show - 1352 (92.9%)**\n",
    "- делее идет событие **contacts_show - 289 (19.8%)**\n",
    "- конверсия в шаг выглядит следующим образом:\n",
    " - **map** - 1456 пользователей **100%** конверсии в шаг\n",
    " - **tips_show** - 1352 пользователей **92.9%** конверсии в шаг\n",
    " - **contacts_show** - 289 пользователей **21.4%** конверсии в шаг\n",
    "- наблюдаем большую просадку в этом сценарии между шагами `tips_show -> contacts_show` - теряем **78.6%** пользователей"
   ]
  },
  {
   "cell_type": "markdown",
   "metadata": {},
   "source": [
    "**Рассмотрим третий популярный сценарий `photos_show -> contacts_show`**"
   ]
  },
  {
   "cell_type": "code",
   "execution_count": 41,
   "metadata": {
    "scrolled": false
   },
   "outputs": [
    {
     "data": {
      "text/html": [
       "<div>\n",
       "<style scoped>\n",
       "    .dataframe tbody tr th:only-of-type {\n",
       "        vertical-align: middle;\n",
       "    }\n",
       "\n",
       "    .dataframe tbody tr th {\n",
       "        vertical-align: top;\n",
       "    }\n",
       "\n",
       "    .dataframe thead th {\n",
       "        text-align: right;\n",
       "    }\n",
       "</style>\n",
       "<table border=\"1\" class=\"dataframe\">\n",
       "  <thead>\n",
       "    <tr style=\"text-align: right;\">\n",
       "      <th></th>\n",
       "      <th>event_name</th>\n",
       "      <th>user_count</th>\n",
       "      <th>%</th>\n",
       "    </tr>\n",
       "  </thead>\n",
       "  <tbody>\n",
       "    <tr>\n",
       "      <th>0</th>\n",
       "      <td>photos_show</td>\n",
       "      <td>1095</td>\n",
       "      <td>100.0</td>\n",
       "    </tr>\n",
       "    <tr>\n",
       "      <th>1</th>\n",
       "      <td>contacts_show</td>\n",
       "      <td>339</td>\n",
       "      <td>31.0</td>\n",
       "    </tr>\n",
       "  </tbody>\n",
       "</table>\n",
       "</div>"
      ],
      "text/plain": [
       "      event_name  user_count      %\n",
       "0    photos_show        1095  100.0\n",
       "1  contacts_show         339   31.0"
      ]
     },
     "metadata": {},
     "output_type": "display_data"
    },
    {
     "data": {
      "text/html": [
       "<div>\n",
       "<style scoped>\n",
       "    .dataframe tbody tr th:only-of-type {\n",
       "        vertical-align: middle;\n",
       "    }\n",
       "\n",
       "    .dataframe tbody tr th {\n",
       "        vertical-align: top;\n",
       "    }\n",
       "\n",
       "    .dataframe thead th {\n",
       "        text-align: right;\n",
       "    }\n",
       "</style>\n",
       "<table border=\"1\" class=\"dataframe\">\n",
       "  <thead>\n",
       "    <tr style=\"text-align: right;\">\n",
       "      <th></th>\n",
       "      <th>event_name</th>\n",
       "      <th>user_count</th>\n",
       "      <th>conversion, %</th>\n",
       "    </tr>\n",
       "  </thead>\n",
       "  <tbody>\n",
       "    <tr>\n",
       "      <th>0</th>\n",
       "      <td>photos_show</td>\n",
       "      <td>1095</td>\n",
       "      <td>100.0</td>\n",
       "    </tr>\n",
       "    <tr>\n",
       "      <th>1</th>\n",
       "      <td>contacts_show</td>\n",
       "      <td>339</td>\n",
       "      <td>31.0</td>\n",
       "    </tr>\n",
       "  </tbody>\n",
       "</table>\n",
       "</div>"
      ],
      "text/plain": [
       "      event_name  user_count  conversion, %\n",
       "0    photos_show        1095          100.0\n",
       "1  contacts_show         339           31.0"
      ]
     },
     "metadata": {},
     "output_type": "display_data"
    },
    {
     "data": {
      "image/png": "[encoded data removed]"
     },
     "metadata": {},
     "output_type": "display_data"
    }
   ],
   "source": [
    "product_funnel_func(logs, event_list_3)"
   ]
  },
  {
   "cell_type": "markdown",
   "metadata": {},
   "source": [
    "- пользователи, учавствующие в событии **photos_show - 1095 пользователей (100%)**\n",
    "- далее идет событие **contacts_show - 339 (31.0%)**\n",
    "- конверсия в шаг выглядит следующим образом:\n",
    " - **photos_show** - 1095 пользователей **100%** конверсии в шаг\n",
    " - **contacts_show** - 339 пользователей **31.0%** конверсии в шаг\n",
    "- наблюдаем большую просадку в этом сценарии между шагами `photos_show -> contacts_show` - **теряем 69% пользователей**"
   ]
  },
  {
   "cell_type": "markdown",
   "metadata": {},
   "source": [
    "### Выделим сессии где есть поиск и открытие объявления и выясним как различается время между поиском и открытием объявления у пользователей, совершающих и не совершающих целевое действие"
   ]
  },
  {
   "cell_type": "code",
   "execution_count": 42,
   "metadata": {},
   "outputs": [
    {
     "data": {
      "text/html": [
       "<div>\n",
       "<style scoped>\n",
       "    .dataframe tbody tr th:only-of-type {\n",
       "        vertical-align: middle;\n",
       "    }\n",
       "\n",
       "    .dataframe tbody tr th {\n",
       "        vertical-align: top;\n",
       "    }\n",
       "\n",
       "    .dataframe thead th {\n",
       "        text-align: right;\n",
       "    }\n",
       "</style>\n",
       "<table border=\"1\" class=\"dataframe\">\n",
       "  <thead>\n",
       "    <tr style=\"text-align: right;\">\n",
       "      <th></th>\n",
       "      <th>user_id</th>\n",
       "      <th>session_dt</th>\n",
       "      <th>advert_open</th>\n",
       "      <th>search</th>\n",
       "      <th>time_delta</th>\n",
       "      <th>is_contact_show</th>\n",
       "    </tr>\n",
       "  </thead>\n",
       "  <tbody>\n",
       "    <tr>\n",
       "      <th>0</th>\n",
       "      <td>00157779-810c-4498-9e05-a1e9e3cedf93</td>\n",
       "      <td>2019-10-29</td>\n",
       "      <td>2019-10-29 22:10:21.561467</td>\n",
       "      <td>2019-10-29 21:18:24.850073</td>\n",
       "      <td>51.9</td>\n",
       "      <td>True</td>\n",
       "    </tr>\n",
       "    <tr>\n",
       "      <th>1</th>\n",
       "      <td>0164902d-7393-47e1-9d5b-0ec4c0171cdc</td>\n",
       "      <td>2019-10-28</td>\n",
       "      <td>2019-10-28 15:16:57.266458</td>\n",
       "      <td>2019-10-28 15:16:28.675257</td>\n",
       "      <td>0.5</td>\n",
       "      <td>False</td>\n",
       "    </tr>\n",
       "    <tr>\n",
       "      <th>2</th>\n",
       "      <td>017c6afc-965d-4c94-84ee-f0e326998e30</td>\n",
       "      <td>2019-10-10</td>\n",
       "      <td>2019-10-10 14:29:11.294613</td>\n",
       "      <td>2019-10-10 14:28:16.556947</td>\n",
       "      <td>0.9</td>\n",
       "      <td>False</td>\n",
       "    </tr>\n",
       "    <tr>\n",
       "      <th>3</th>\n",
       "      <td>02e7c193-842b-4995-b67a-8c87ac0f29bb</td>\n",
       "      <td>2019-10-08</td>\n",
       "      <td>2019-10-08 20:43:46.668606</td>\n",
       "      <td>2019-10-08 20:41:11.253131</td>\n",
       "      <td>2.6</td>\n",
       "      <td>False</td>\n",
       "    </tr>\n",
       "    <tr>\n",
       "      <th>4</th>\n",
       "      <td>04adf25e-cb60-4cbd-bedc-ddc1057cde06</td>\n",
       "      <td>2019-10-13</td>\n",
       "      <td>2019-10-13 15:43:48.511617</td>\n",
       "      <td>2019-10-13 15:41:09.088066</td>\n",
       "      <td>2.6</td>\n",
       "      <td>True</td>\n",
       "    </tr>\n",
       "  </tbody>\n",
       "</table>\n",
       "</div>"
      ],
      "text/plain": [
       "                                user_id  session_dt  \\\n",
       "0  00157779-810c-4498-9e05-a1e9e3cedf93  2019-10-29   \n",
       "1  0164902d-7393-47e1-9d5b-0ec4c0171cdc  2019-10-28   \n",
       "2  017c6afc-965d-4c94-84ee-f0e326998e30  2019-10-10   \n",
       "3  02e7c193-842b-4995-b67a-8c87ac0f29bb  2019-10-08   \n",
       "4  04adf25e-cb60-4cbd-bedc-ddc1057cde06  2019-10-13   \n",
       "\n",
       "                 advert_open                     search  time_delta  \\\n",
       "0 2019-10-29 22:10:21.561467 2019-10-29 21:18:24.850073        51.9   \n",
       "1 2019-10-28 15:16:57.266458 2019-10-28 15:16:28.675257         0.5   \n",
       "2 2019-10-10 14:29:11.294613 2019-10-10 14:28:16.556947         0.9   \n",
       "3 2019-10-08 20:43:46.668606 2019-10-08 20:41:11.253131         2.6   \n",
       "4 2019-10-13 15:43:48.511617 2019-10-13 15:41:09.088066         2.6   \n",
       "\n",
       "   is_contact_show  \n",
       "0             True  \n",
       "1            False  \n",
       "2            False  \n",
       "3            False  \n",
       "4             True  "
      ]
     },
     "execution_count": 42,
     "metadata": {},
     "output_type": "execute_result"
    }
   ],
   "source": [
    "#выделим логи с интересующими нас действиями\n",
    "session_search_and_advertopen = (\n",
    "    logs.rename(columns={'event_dt': 'session_dt'})\n",
    "        .query('event_name == \"search\" or event_name == \"advert_open\"')\n",
    "    \n",
    ")\n",
    "#сведем таблицу по пользователям, сессии и событию, \n",
    "#оставим первое время повторяющихся событий\n",
    "session_search_and_advertopen = (\n",
    "    session_search_and_advertopen\n",
    "    .pivot_table(index=['user_id', 'session_dt'], columns='event_name', values='event_time', aggfunc='first')\n",
    "    .dropna()\n",
    ")\n",
    "#вычислим время между поиском и открытием объявления\n",
    "#удалим отрицательные значения\n",
    "session_search_and_advertopen['time_delta'] = (\n",
    "    ((session_search_and_advertopen['advert_open'] - session_search_and_advertopen['search']).astype('timedelta64[s]')) / 60\n",
    ").round(1)\n",
    "session_search_and_advertopen = (\n",
    "    session_search_and_advertopen[session_search_and_advertopen['time_delta'] > 0]\n",
    "    .reset_index()\n",
    ")\n",
    "#добавим признак совершения целевого действия\n",
    "session_search_and_advertopen = (\n",
    "    session_search_and_advertopen\n",
    "    .merge(profiles[['user_id', 'is_contact_show']], on='user_id', how='left')\n",
    ")\n",
    "\n",
    "session_search_and_advertopen.head()"
   ]
  },
  {
   "cell_type": "markdown",
   "metadata": {},
   "source": [
    "**Все сессии, в которых есть поиск и открытие объявления разделены следующим образом**"
   ]
  },
  {
   "cell_type": "code",
   "execution_count": 43,
   "metadata": {},
   "outputs": [
    {
     "data": {
      "text/html": [
       "<div>\n",
       "<style scoped>\n",
       "    .dataframe tbody tr th:only-of-type {\n",
       "        vertical-align: middle;\n",
       "    }\n",
       "\n",
       "    .dataframe tbody tr th {\n",
       "        vertical-align: top;\n",
       "    }\n",
       "\n",
       "    .dataframe thead th {\n",
       "        text-align: right;\n",
       "    }\n",
       "</style>\n",
       "<table border=\"1\" class=\"dataframe\">\n",
       "  <thead>\n",
       "    <tr style=\"text-align: right;\">\n",
       "      <th></th>\n",
       "      <th>is_contact_show</th>\n",
       "      <th>session_dt</th>\n",
       "    </tr>\n",
       "  </thead>\n",
       "  <tbody>\n",
       "    <tr>\n",
       "      <th>0</th>\n",
       "      <td>False</td>\n",
       "      <td>223</td>\n",
       "    </tr>\n",
       "    <tr>\n",
       "      <th>1</th>\n",
       "      <td>True</td>\n",
       "      <td>85</td>\n",
       "    </tr>\n",
       "  </tbody>\n",
       "</table>\n",
       "</div>"
      ],
      "text/plain": [
       "   is_contact_show  session_dt\n",
       "0            False         223\n",
       "1             True          85"
      ]
     },
     "execution_count": 43,
     "metadata": {},
     "output_type": "execute_result"
    }
   ],
   "source": [
    "session_search_and_advertopen.groupby('is_contact_show')['session_dt'].count().reset_index()"
   ]
  },
  {
   "cell_type": "markdown",
   "metadata": {},
   "source": [
    "- сессий у пользователей не просматривающих контакты - **223**\n",
    "- сессий у пользователей просматривающих контакты - **85**"
   ]
  },
  {
   "cell_type": "markdown",
   "metadata": {},
   "source": [
    "**Сгруппируем данные по признаку целевого действия `contact_show` и определим медианное время между поиском и открытием объявления эти групп**"
   ]
  },
  {
   "cell_type": "code",
   "execution_count": 44,
   "metadata": {},
   "outputs": [
    {
     "name": "stdout",
     "output_type": "stream",
     "text": [
      "Медианное время между поиском и открытием объявления\n",
      "у пользователей совершивших целевое событие: 3.7\n",
      "Медианное время между поиском и открытием объявления\n",
      "у пользователей не совершивших целевое событие: 1.9\n"
     ]
    }
   ],
   "source": [
    "print('Медианное время между поиском и открытием объявления\\n'\n",
    "      + 'у пользователей совершивших целевое событие:',\n",
    "    session_search_and_advertopen.query('is_contact_show == True')['time_delta'].median()\n",
    ")\n",
    "print('Медианное время между поиском и открытием объявления\\n'\n",
    "      + 'у пользователей не совершивших целевое событие:',\n",
    "    session_search_and_advertopen.query('is_contact_show == False')['time_delta'].median()\n",
    ")"
   ]
  },
  {
   "cell_type": "code",
   "execution_count": 57,
   "metadata": {},
   "outputs": [
    {
     "data": {
      "image/png": "[encoded data removed]"
     },
     "metadata": {},
     "output_type": "display_data"
    }
   ],
   "source": [
    "fig = px.box(session_search_and_advertopen, y='time_delta', x='is_contact_show', color='is_contact_show', \n",
    "             points=False\n",
    "            )\n",
    "fig.update_layout(\n",
    "        title={\n",
    "            'text': \"Распределение времени между поиском и открытием объявления\",\n",
    "            'y':0.95,\n",
    "            'x':0.5,\n",
    "            'xanchor': 'center',\n",
    "            'yanchor': 'top'},\n",
    "        xaxis_title=\"совершение целевого события (просмотр контакта)\",\n",
    "        yaxis_title=\"время, мин.\",\n",
    "        showlegend=False,\n",
    "        \n",
    "    )\n",
    "fig.add_annotation(\n",
    "    text=('медианна: '+str(session_search_and_advertopen.query('is_contact_show == True')['time_delta'].median())),\n",
    "    xref=\"paper\", yref=\"paper\",\n",
    "    x=0.3, y=0.5, showarrow=False)\n",
    "fig.add_annotation(\n",
    "    text=('медианна: '+str(session_search_and_advertopen.query('is_contact_show == False')['time_delta'].median())),\n",
    "    xref=\"paper\", yref=\"paper\",\n",
    "    x=0.90, y=0.3, showarrow=False)\n",
    "fig.update_yaxes(range=[0, 60])\n",
    "\n",
    "fig.show()"
   ]
  },
  {
   "cell_type": "markdown",
   "metadata": {},
   "source": [
    "медианное время сессии, в которой присутствует поиск и открытие объявления\n",
    "- у пользователей **совершивших** целевое событие: **3.7 минут**\n",
    "- у пользователей **не совершивших** целевое событие: **1.9 минут**\n",
    "- время между поиском и открытием объявления у пользователей совершивших целевое событие в **2 раза больше**, чем у пользователей, не совершивших целевое событие"
   ]
  },
  {
   "cell_type": "markdown",
   "metadata": {},
   "source": [
    "---\n",
    "### Вывод"
   ]
  },
  {
   "cell_type": "markdown",
   "metadata": {},
   "source": [
    "**выделили самые популярные сценарии, включающие целевое событие `contacts_show`**\n",
    "- наиболее популярные сценарии\n",
    " - **tips_show -> contacts_show**\n",
    " - **map -> tips_show -> contacts_show**\n",
    " - **photos_show -> contacts_show**\n",
    " \n",
    "**посчитали, сколько пользователей совершали каждое из этих событий. Отсортировали события по числу пользователей. Посчитали долю пользователей, которые хоть раз совершали событие. По воронке событий посчитали, какая доля пользователей проходит на следующий шаг воронки**\n",
    "- **рассмотрели первый (самый популярный сценарий) `tips_show -> contacts_show`**\n",
    " - пользователи, учавствующие в событии **tips_show - 2801 пользователей (100%)**\n",
    " - делее идет событие **contacts_show - 516 пользователей (18.4%)**\n",
    " - конверсия в шаг выглядит следующим образом:\n",
    "  -- **tips_show** - 2801 пользователей **100%** конверсии в шаг\n",
    "  -- **contacts_show** - 516 пользователей **18.4%** конверсии в шаг\n",
    " - наблюдаем большую просадку в этом сценарии между шагами `tips_show -> contacts_show` - **теряем 81.6% пользователей**\n",
    "- **рассмотрели второй сценарий `map -> tips_show -> contacts_show`**\n",
    " - пользователи, учавствующие в событии **map - 1456 пользователей (100%)**\n",
    " - далее идет событие **tips_show - 1352 (92.9%)**\n",
    " - делее идет событие **contacts_show - 289 (19.8%)**\n",
    " - конверсия в шаг выглядит следующим образом:\n",
    "  -- **map** - 1456 пользователей **100%** конверсии в шаг\n",
    "  -- **tips_show** - 1352 пользователей **92.9%** конверсии в шаг\n",
    "  -- **contacts_show** - 289 пользователей **21.4%** конверсии в шаг\n",
    "- наблюдаем большую просадку в этом сценарии между шагами `tips_show -> contacts_show` - теряем **78.6%** пользователей\n",
    "- **рассмотрели третий популярный сценарий `photos_show -> contacts_show`**\n",
    " - пользователи, учавствующие в событии **photos_show - 1095 пользователей (100%)**\n",
    " - далее идет событие **contacts_show - 339 (31.0%)**\n",
    " - конверсия в шаг выглядит следующим образом:\n",
    "  -- **photos_show** - 1095 пользователей **100%** конверсии в шаг\n",
    "  -- **contacts_show** - 339 пользователей **31.0%** конверсии в шаг\n",
    " - наблюдаем большую просадку в этом сценарии между шагами `photos_show -> contacts_show` - **теряем 69% пользователей**\n",
    " \n",
    "**выделили сессии где есть поиск и открытие объявления и выяснили как различается время между поиском и открытием объявления у пользователей, совершающих и не совершающих целевое действие**\n",
    "- все сессии, в которых есть поиск и открытие объявления разделены следующим образом\n",
    " - сессий у пользователей не просматривающих контакты - **223**\n",
    " - сессий у пользователей просматривающих контакты - **85**\n",
    "- сгруппировали данные по признаку целевого действия `contact_show` и определили медианное время сессии эти групп\n",
    " - медианное время сессии, в которой присутствует поиск и открытие объявления\n",
    " -- у пользователей **совершивших** целевое событие: **3.7 минут**\n",
    " -- у пользователей **не совершивших** целевое событие: **1.9 минут**\n",
    " -- время между поиском и открытием объявления у пользователей совершивших целевое событие в **2 раза больше**, чем у пользователей, не совершивших целевое событие\n",
    "\n",
    "---"
   ]
  },
  {
   "cell_type": "markdown",
   "metadata": {},
   "source": [
    "## Статистическая проверка гипотез"
   ]
  },
  {
   "cell_type": "markdown",
   "metadata": {},
   "source": [
    "### Одни пользователи совершают действия `tips_show` и `tips_click`, другие — только `tips_show`. Проверить гипотезу: конверсия в просмотры контактов различается у этих двух групп"
   ]
  },
  {
   "cell_type": "markdown",
   "metadata": {},
   "source": [
    "***Сформируем гипотезы:***\n",
    "\n",
    "**H_0:** Конверсия в просмотры контактов пользователей, совершающих действия `tips_show` и `tips_click` = Конверсии в просмотры контактов пользователей, совершающих только `tips_show`\n",
    "\n",
    "**H_a:** Конверсия в просмотры контактов пользователей, совершающих действия `tips_show` и `tips_click` ≠ Конверсии в просмотры контактов пользователей, совершающих только `tips_show`\n",
    "\n",
    "**alpha = 0.05**"
   ]
  },
  {
   "cell_type": "markdown",
   "metadata": {},
   "source": [
    "**Выделим две группы пользователей**\n",
    "- первая группа A, совершают действие `tips_show`, `tips_click`\n",
    "- вторая группа B, совершают действие `tips_show` без `tips_click`"
   ]
  },
  {
   "cell_type": "code",
   "execution_count": 46,
   "metadata": {},
   "outputs": [
    {
     "name": "stdout",
     "output_type": "stream",
     "text": [
      "всего пользователей в группе А: 297\n"
     ]
    },
    {
     "data": {
      "text/html": [
       "<div>\n",
       "<style scoped>\n",
       "    .dataframe tbody tr th:only-of-type {\n",
       "        vertical-align: middle;\n",
       "    }\n",
       "\n",
       "    .dataframe tbody tr th {\n",
       "        vertical-align: top;\n",
       "    }\n",
       "\n",
       "    .dataframe thead th {\n",
       "        text-align: right;\n",
       "    }\n",
       "</style>\n",
       "<table border=\"1\" class=\"dataframe\">\n",
       "  <thead>\n",
       "    <tr style=\"text-align: right;\">\n",
       "      <th></th>\n",
       "      <th>user_id</th>\n",
       "      <th>group</th>\n",
       "    </tr>\n",
       "  </thead>\n",
       "  <tbody>\n",
       "    <tr>\n",
       "      <th>0</th>\n",
       "      <td>01147bf8-cd48-49c0-a5af-3f6eb45f8262</td>\n",
       "      <td>A</td>\n",
       "    </tr>\n",
       "    <tr>\n",
       "      <th>1</th>\n",
       "      <td>01b4ca51-930d-4518-aa09-8a8c35e1d9cc</td>\n",
       "      <td>A</td>\n",
       "    </tr>\n",
       "    <tr>\n",
       "      <th>2</th>\n",
       "      <td>02e7c193-842b-4995-b67a-8c87ac0f29bb</td>\n",
       "      <td>A</td>\n",
       "    </tr>\n",
       "    <tr>\n",
       "      <th>3</th>\n",
       "      <td>04ee0c31-3c77-49f8-81d2-bbfe9fe2cde8</td>\n",
       "      <td>A</td>\n",
       "    </tr>\n",
       "    <tr>\n",
       "      <th>4</th>\n",
       "      <td>0656a1d1-9032-43ae-b936-11e41526eeff</td>\n",
       "      <td>A</td>\n",
       "    </tr>\n",
       "  </tbody>\n",
       "</table>\n",
       "</div>"
      ],
      "text/plain": [
       "                                user_id group\n",
       "0  01147bf8-cd48-49c0-a5af-3f6eb45f8262     A\n",
       "1  01b4ca51-930d-4518-aa09-8a8c35e1d9cc     A\n",
       "2  02e7c193-842b-4995-b67a-8c87ac0f29bb     A\n",
       "3  04ee0c31-3c77-49f8-81d2-bbfe9fe2cde8     A\n",
       "4  0656a1d1-9032-43ae-b936-11e41526eeff     A"
      ]
     },
     "execution_count": 46,
     "metadata": {},
     "output_type": "execute_result"
    }
   ],
   "source": [
    "user_id_group_A = (\n",
    "    profiles[(profiles['event_unique'].str.contains('tips_show')) \n",
    "            & (profiles['event_unique'].str.contains('tips_click'))\n",
    "            ][['user_id']].reset_index(drop=True)\n",
    ")\n",
    "user_id_group_A['group'] = 'A'\n",
    "\n",
    "print('всего пользователей в группе А:', len(user_id_group_A))\n",
    "user_id_group_A.head()"
   ]
  },
  {
   "cell_type": "code",
   "execution_count": 47,
   "metadata": {},
   "outputs": [
    {
     "name": "stdout",
     "output_type": "stream",
     "text": [
      "всего пользователей в группе B: 2504\n"
     ]
    },
    {
     "data": {
      "text/html": [
       "<div>\n",
       "<style scoped>\n",
       "    .dataframe tbody tr th:only-of-type {\n",
       "        vertical-align: middle;\n",
       "    }\n",
       "\n",
       "    .dataframe tbody tr th {\n",
       "        vertical-align: top;\n",
       "    }\n",
       "\n",
       "    .dataframe thead th {\n",
       "        text-align: right;\n",
       "    }\n",
       "</style>\n",
       "<table border=\"1\" class=\"dataframe\">\n",
       "  <thead>\n",
       "    <tr style=\"text-align: right;\">\n",
       "      <th></th>\n",
       "      <th>user_id</th>\n",
       "      <th>group</th>\n",
       "    </tr>\n",
       "  </thead>\n",
       "  <tbody>\n",
       "    <tr>\n",
       "      <th>0</th>\n",
       "      <td>0001b1d5-b74a-4cbf-aeb0-7df5947bf349</td>\n",
       "      <td>B</td>\n",
       "    </tr>\n",
       "    <tr>\n",
       "      <th>1</th>\n",
       "      <td>004690c3-5a84-4bb7-a8af-e0c8f8fca64e</td>\n",
       "      <td>B</td>\n",
       "    </tr>\n",
       "    <tr>\n",
       "      <th>2</th>\n",
       "      <td>00554293-7e00-4122-b898-4e892c4a7c53</td>\n",
       "      <td>B</td>\n",
       "    </tr>\n",
       "    <tr>\n",
       "      <th>3</th>\n",
       "      <td>005fbea5-2678-406f-88a6-fbe9787e2268</td>\n",
       "      <td>B</td>\n",
       "    </tr>\n",
       "    <tr>\n",
       "      <th>4</th>\n",
       "      <td>007d031d-5018-4e02-b7ee-72a30609173f</td>\n",
       "      <td>B</td>\n",
       "    </tr>\n",
       "  </tbody>\n",
       "</table>\n",
       "</div>"
      ],
      "text/plain": [
       "                                user_id group\n",
       "0  0001b1d5-b74a-4cbf-aeb0-7df5947bf349     B\n",
       "1  004690c3-5a84-4bb7-a8af-e0c8f8fca64e     B\n",
       "2  00554293-7e00-4122-b898-4e892c4a7c53     B\n",
       "3  005fbea5-2678-406f-88a6-fbe9787e2268     B\n",
       "4  007d031d-5018-4e02-b7ee-72a30609173f     B"
      ]
     },
     "execution_count": 47,
     "metadata": {},
     "output_type": "execute_result"
    }
   ],
   "source": [
    "user_id_group_B = (\n",
    "    profiles[(profiles['event_unique'].str.contains('tips_show')) \n",
    "            & ~(profiles['event_unique'].str.contains('tips_click'))\n",
    "            ][['user_id']].reset_index(drop=True)\n",
    ")\n",
    "user_id_group_B['group'] = 'B'\n",
    "\n",
    "print('всего пользователей в группе B:', len(user_id_group_B))\n",
    "user_id_group_B.head()"
   ]
  },
  {
   "cell_type": "markdown",
   "metadata": {},
   "source": [
    "Проверим нет ли пересекающихся пользователей между двумя группами"
   ]
  },
  {
   "cell_type": "code",
   "execution_count": 48,
   "metadata": {},
   "outputs": [
    {
     "data": {
      "text/html": [
       "<div>\n",
       "<style scoped>\n",
       "    .dataframe tbody tr th:only-of-type {\n",
       "        vertical-align: middle;\n",
       "    }\n",
       "\n",
       "    .dataframe tbody tr th {\n",
       "        vertical-align: top;\n",
       "    }\n",
       "\n",
       "    .dataframe thead th {\n",
       "        text-align: right;\n",
       "    }\n",
       "</style>\n",
       "<table border=\"1\" class=\"dataframe\">\n",
       "  <thead>\n",
       "    <tr style=\"text-align: right;\">\n",
       "      <th></th>\n",
       "      <th>user_id</th>\n",
       "      <th>group</th>\n",
       "    </tr>\n",
       "  </thead>\n",
       "  <tbody>\n",
       "  </tbody>\n",
       "</table>\n",
       "</div>"
      ],
      "text/plain": [
       "Empty DataFrame\n",
       "Columns: [user_id, group]\n",
       "Index: []"
      ]
     },
     "execution_count": 48,
     "metadata": {},
     "output_type": "execute_result"
    }
   ],
   "source": [
    "user_id_group_A[user_id_group_A['user_id'].isin(user_id_group_B['user_id'])]"
   ]
  },
  {
   "cell_type": "markdown",
   "metadata": {},
   "source": [
    "**Пересекающихся пользователей нет**"
   ]
  },
  {
   "cell_type": "markdown",
   "metadata": {},
   "source": [
    "**Объединим две таблицы в одну**"
   ]
  },
  {
   "cell_type": "code",
   "execution_count": 49,
   "metadata": {},
   "outputs": [],
   "source": [
    "user_id_group_A_B = pd.concat([user_id_group_A, user_id_group_B], axis=0, ignore_index=True)"
   ]
  },
  {
   "cell_type": "markdown",
   "metadata": {},
   "source": [
    "**Создадим новый файл `new_logs`, где будут присутствовать только пользователи из группы А и группы B**"
   ]
  },
  {
   "cell_type": "code",
   "execution_count": 50,
   "metadata": {
    "scrolled": false
   },
   "outputs": [
    {
     "data": {
      "text/html": [
       "<div>\n",
       "<style scoped>\n",
       "    .dataframe tbody tr th:only-of-type {\n",
       "        vertical-align: middle;\n",
       "    }\n",
       "\n",
       "    .dataframe tbody tr th {\n",
       "        vertical-align: top;\n",
       "    }\n",
       "\n",
       "    .dataframe thead th {\n",
       "        text-align: right;\n",
       "    }\n",
       "</style>\n",
       "<table border=\"1\" class=\"dataframe\">\n",
       "  <thead>\n",
       "    <tr style=\"text-align: right;\">\n",
       "      <th></th>\n",
       "      <th>event_time</th>\n",
       "      <th>event_name</th>\n",
       "      <th>user_id</th>\n",
       "      <th>source</th>\n",
       "      <th>event_dt</th>\n",
       "      <th>group</th>\n",
       "    </tr>\n",
       "  </thead>\n",
       "  <tbody>\n",
       "    <tr>\n",
       "      <th>0</th>\n",
       "      <td>2019-10-07 13:39:45.989359</td>\n",
       "      <td>tips_show</td>\n",
       "      <td>0001b1d5-b74a-4cbf-aeb0-7df5947bf349</td>\n",
       "      <td>other</td>\n",
       "      <td>2019-10-07</td>\n",
       "      <td>B</td>\n",
       "    </tr>\n",
       "    <tr>\n",
       "      <th>1</th>\n",
       "      <td>2019-10-07 13:40:31.052909</td>\n",
       "      <td>tips_show</td>\n",
       "      <td>0001b1d5-b74a-4cbf-aeb0-7df5947bf349</td>\n",
       "      <td>other</td>\n",
       "      <td>2019-10-07</td>\n",
       "      <td>B</td>\n",
       "    </tr>\n",
       "    <tr>\n",
       "      <th>2</th>\n",
       "      <td>2019-10-07 13:41:05.722489</td>\n",
       "      <td>tips_show</td>\n",
       "      <td>0001b1d5-b74a-4cbf-aeb0-7df5947bf349</td>\n",
       "      <td>other</td>\n",
       "      <td>2019-10-07</td>\n",
       "      <td>B</td>\n",
       "    </tr>\n",
       "    <tr>\n",
       "      <th>3</th>\n",
       "      <td>2019-10-07 13:43:20.735461</td>\n",
       "      <td>tips_show</td>\n",
       "      <td>0001b1d5-b74a-4cbf-aeb0-7df5947bf349</td>\n",
       "      <td>other</td>\n",
       "      <td>2019-10-07</td>\n",
       "      <td>B</td>\n",
       "    </tr>\n",
       "    <tr>\n",
       "      <th>4</th>\n",
       "      <td>2019-10-07 13:45:30.917502</td>\n",
       "      <td>tips_show</td>\n",
       "      <td>0001b1d5-b74a-4cbf-aeb0-7df5947bf349</td>\n",
       "      <td>other</td>\n",
       "      <td>2019-10-07</td>\n",
       "      <td>B</td>\n",
       "    </tr>\n",
       "  </tbody>\n",
       "</table>\n",
       "</div>"
      ],
      "text/plain": [
       "                  event_time event_name                               user_id  \\\n",
       "0 2019-10-07 13:39:45.989359  tips_show  0001b1d5-b74a-4cbf-aeb0-7df5947bf349   \n",
       "1 2019-10-07 13:40:31.052909  tips_show  0001b1d5-b74a-4cbf-aeb0-7df5947bf349   \n",
       "2 2019-10-07 13:41:05.722489  tips_show  0001b1d5-b74a-4cbf-aeb0-7df5947bf349   \n",
       "3 2019-10-07 13:43:20.735461  tips_show  0001b1d5-b74a-4cbf-aeb0-7df5947bf349   \n",
       "4 2019-10-07 13:45:30.917502  tips_show  0001b1d5-b74a-4cbf-aeb0-7df5947bf349   \n",
       "\n",
       "  source    event_dt group  \n",
       "0  other  2019-10-07     B  \n",
       "1  other  2019-10-07     B  \n",
       "2  other  2019-10-07     B  \n",
       "3  other  2019-10-07     B  \n",
       "4  other  2019-10-07     B  "
      ]
     },
     "execution_count": 50,
     "metadata": {},
     "output_type": "execute_result"
    }
   ],
   "source": [
    "new_logs = logs.merge(user_id_group_A_B, on='user_id')\n",
    "\n",
    "new_logs.head()"
   ]
  },
  {
   "cell_type": "markdown",
   "metadata": {},
   "source": [
    "**Посчитаем конверсию этих двух групп**"
   ]
  },
  {
   "cell_type": "markdown",
   "metadata": {},
   "source": [
    "Выберем самое популярное событие. Посчитаем число пользователей, совершивших это событие в каждой из контрольных групп. Посчитаем долю пользователей, совершивших это событие. Проверим, будет ли отличие между группами статистически достоверным. Проделаем то же самое для всех других событий (удобно обернуть проверку в отдельную функцию)"
   ]
  },
  {
   "cell_type": "code",
   "execution_count": 51,
   "metadata": {},
   "outputs": [],
   "source": [
    "def a_b_stats(data, group_1, group_2, alpha=0.05):   # функция для подсчета стат. значимости долей\n",
    "    g_1 = ( \n",
    "        data[data['group'] == group_1]\n",
    "        .groupby('event_name')['user_id'].nunique()\n",
    "        .sort_values(ascending=False).reset_index()\n",
    "    )\n",
    "    g_1['all_users'] = data[data['group'] == group_1]['user_id'].nunique()\n",
    "    \n",
    "    g_2 = ( \n",
    "        data[data['group'] == group_2]\n",
    "        .groupby('event_name')['user_id'].nunique()\n",
    "        .sort_values(ascending=False).reset_index()\n",
    "    )\n",
    "    g_2['all_users'] = data[data['group'] == group_2]['user_id'].nunique()\n",
    "    \n",
    "    g_g2_table = g_1.merge(g_2, on='event_name', suffixes=('_' + str(group_1), '_' + str(group_2)))\n",
    "    \n",
    "    # пропорция успехов в первой группе\n",
    "    g_g2_table['p1'] = (g_g2_table['user_id_' + str(group_1)] / g_g2_table['all_users_' + str(group_1)]).round(3)\n",
    "    # пропорция успехов во второй группе\n",
    "    g_g2_table['p2'] = (g_g2_table['user_id_' + str(group_2)] / g_g2_table['all_users_' + str(group_2)]).round(3)\n",
    "    # пропорция успехов в комбинированном датасете\n",
    "    g_g2_table['p_combined'] = (\n",
    "        (g_g2_table['user_id_' + str(group_1)] + g_g2_table['user_id_' + str(group_2)]) \n",
    "        / (g_g2_table['all_users_' + str(group_1)] + g_g2_table['all_users_' + str(group_2)])\n",
    "    ).round(3)\n",
    "    # разница пропорций в датасетах\n",
    "    g_g2_table['difference'] = g_g2_table['p1'] - g_g2_table['p2']\n",
    "    # считаем статистику в ст.отклонениях стандартного нормального распределения\n",
    "    g_g2_table['z_value'] = (\n",
    "        g_g2_table['difference']\n",
    "        / np.sqrt(\n",
    "            g_g2_table['p_combined'] \n",
    "            * (1 - g_g2_table['p_combined']) \n",
    "            * (1 / g_g2_table['all_users_' + str(group_1)] + 1 / g_g2_table['all_users_' + str(group_2)])\n",
    "        )\n",
    "\n",
    "    ).round(3)\n",
    "    \n",
    "    distr = st.norm(0, 1) # задаем стандартное нормальное распределение (среднее 0, ст.отклонение 1)\n",
    "\n",
    "    # Если бы пропорции были равны, разница между ними была бы равна нулю \n",
    "    # Посчитаем, как далеко статистика уехала от нуля\n",
    "    # Какова вероятность получить такое отличие или больше? \n",
    "    # Так как распределение статистики нормальное, вызовем метод cdf()\n",
    "    # Саму статистику возьмём по модулю методом abs() — чтобы получить правильный результат независимо от её знака\n",
    "    # Это возможно, потому что тест двусторонний. По этой же причине удваиваем результат\n",
    "\n",
    "    g_g2_table['p_value'] = ((1 - distr.cdf(abs(g_g2_table['z_value']))) * 2).round(3)\n",
    "    g_g2_table['result'] = g_g2_table['p_value'].map(\n",
    "        lambda x: 'есть значимая разница между долями' if x < alpha else 'нет значимой разницы между долями'\n",
    "    ) \n",
    "      \n",
    "    return g_g2_table  "
   ]
  },
  {
   "cell_type": "markdown",
   "metadata": {},
   "source": [
    "**Проверим, будет ли отличие между группами A и B статистически значимым**"
   ]
  },
  {
   "cell_type": "code",
   "execution_count": 52,
   "metadata": {},
   "outputs": [
    {
     "data": {
      "text/html": [
       "<div>\n",
       "<style scoped>\n",
       "    .dataframe tbody tr th:only-of-type {\n",
       "        vertical-align: middle;\n",
       "    }\n",
       "\n",
       "    .dataframe tbody tr th {\n",
       "        vertical-align: top;\n",
       "    }\n",
       "\n",
       "    .dataframe thead th {\n",
       "        text-align: right;\n",
       "    }\n",
       "</style>\n",
       "<table border=\"1\" class=\"dataframe\">\n",
       "  <thead>\n",
       "    <tr style=\"text-align: right;\">\n",
       "      <th></th>\n",
       "      <th>event_name</th>\n",
       "      <th>user_id_A</th>\n",
       "      <th>all_users_A</th>\n",
       "      <th>user_id_B</th>\n",
       "      <th>all_users_B</th>\n",
       "      <th>p1</th>\n",
       "      <th>p2</th>\n",
       "      <th>p_combined</th>\n",
       "      <th>difference</th>\n",
       "      <th>z_value</th>\n",
       "      <th>p_value</th>\n",
       "      <th>result</th>\n",
       "    </tr>\n",
       "  </thead>\n",
       "  <tbody>\n",
       "    <tr>\n",
       "      <th>0</th>\n",
       "      <td>contacts_show</td>\n",
       "      <td>91</td>\n",
       "      <td>297</td>\n",
       "      <td>425</td>\n",
       "      <td>2504</td>\n",
       "      <td>0.306</td>\n",
       "      <td>0.17</td>\n",
       "      <td>0.184</td>\n",
       "      <td>0.136</td>\n",
       "      <td>5.719</td>\n",
       "      <td>0.0</td>\n",
       "      <td>есть значимая разница между долями</td>\n",
       "    </tr>\n",
       "  </tbody>\n",
       "</table>\n",
       "</div>"
      ],
      "text/plain": [
       "      event_name  user_id_A  all_users_A  user_id_B  all_users_B     p1    p2  \\\n",
       "0  contacts_show         91          297        425         2504  0.306  0.17   \n",
       "\n",
       "   p_combined  difference  z_value  p_value  \\\n",
       "0       0.184       0.136    5.719      0.0   \n",
       "\n",
       "                               result  \n",
       "0  есть значимая разница между долями  "
      ]
     },
     "execution_count": 52,
     "metadata": {},
     "output_type": "execute_result"
    }
   ],
   "source": [
    "a_b_stats(new_logs, 'A', 'B').query('event_name == \"contacts_show\"').reset_index(drop=True)"
   ]
  },
  {
   "cell_type": "markdown",
   "metadata": {},
   "source": [
    "- **Значение p-value показывает: вероятность случайно получить такое или большее различие 0%. Это достаточная вероятность, чтобы делать вывод о значимом различии конверсии между группами.**\n",
    "- **Полученные данные противоречат нулевой гипотезе о том, что `Конверсия в просмотры контактов пользователей, совершающих действия tips_show и tips_click = Конверсии в просмотры контактов пользователей, совершающих только tips_show`**\n",
    "- **Поэтому у нас есть основания отбросить нулевую гипотезу и принять гипотезу о том, что конверсия отличается**\n",
    "- **конверсия группы пользователей совершающих действия tips_show и tips_click в просмотры контактов - `30.6%`**\n",
    "- **конверсия группы пользователей совершающих только tips_show в просмотры контактов - `17%`**\n",
    "- **конверсия группы А в `1.8` раза выше группы В**"
   ]
  },
  {
   "cell_type": "markdown",
   "metadata": {},
   "source": [
    "### Средняя продолжительность сессии пользователей совершающие целевое действие отличается от средней сессии пользователей не совершивших целевое действие"
   ]
  },
  {
   "cell_type": "markdown",
   "metadata": {},
   "source": [
    "***Сформируем гипотезы:***\n",
    "\n",
    "**H_0:** Средняя продолжительность сессии пользователей совершающие целевое действие `contacts_show` = Средней продолжительность сессии пользователей не совершающих целевое действие `contacts_show`\n",
    "\n",
    "**H_a:** Средняя продолжительность сессии пользователей совершающие целевое действие `contacts_show` ≠ Средней продолжительность сессии пользователей не совершающих целевое действие `contacts_show`\n",
    "\n",
    "**alpha = 0.05**"
   ]
  },
  {
   "cell_type": "code",
   "execution_count": 53,
   "metadata": {},
   "outputs": [
    {
     "data": {
      "text/html": [
       "<div>\n",
       "<style scoped>\n",
       "    .dataframe tbody tr th:only-of-type {\n",
       "        vertical-align: middle;\n",
       "    }\n",
       "\n",
       "    .dataframe tbody tr th {\n",
       "        vertical-align: top;\n",
       "    }\n",
       "\n",
       "    .dataframe thead th {\n",
       "        text-align: right;\n",
       "    }\n",
       "</style>\n",
       "<table border=\"1\" class=\"dataframe\">\n",
       "  <thead>\n",
       "    <tr style=\"text-align: right;\">\n",
       "      <th></th>\n",
       "      <th>user_id</th>\n",
       "      <th>source</th>\n",
       "      <th>event_count</th>\n",
       "      <th>event_unique</th>\n",
       "      <th>session_count</th>\n",
       "      <th>is_contact_show</th>\n",
       "      <th>avg_session</th>\n",
       "    </tr>\n",
       "  </thead>\n",
       "  <tbody>\n",
       "    <tr>\n",
       "      <th>0</th>\n",
       "      <td>0001b1d5-b74a-4cbf-aeb0-7df5947bf349</td>\n",
       "      <td>other</td>\n",
       "      <td>35</td>\n",
       "      <td>['tips_show' 'map']</td>\n",
       "      <td>4</td>\n",
       "      <td>False</td>\n",
       "      <td>11.475000</td>\n",
       "    </tr>\n",
       "    <tr>\n",
       "      <th>1</th>\n",
       "      <td>00157779-810c-4498-9e05-a1e9e3cedf93</td>\n",
       "      <td>yandex</td>\n",
       "      <td>71</td>\n",
       "      <td>['search' 'photos_show' 'favorites_add' 'conta...</td>\n",
       "      <td>6</td>\n",
       "      <td>True</td>\n",
       "      <td>32.683333</td>\n",
       "    </tr>\n",
       "    <tr>\n",
       "      <th>2</th>\n",
       "      <td>00463033-5717-4bf1-91b4-09183923b9df</td>\n",
       "      <td>yandex</td>\n",
       "      <td>10</td>\n",
       "      <td>['photos_show']</td>\n",
       "      <td>1</td>\n",
       "      <td>False</td>\n",
       "      <td>24.700000</td>\n",
       "    </tr>\n",
       "    <tr>\n",
       "      <th>3</th>\n",
       "      <td>004690c3-5a84-4bb7-a8af-e0c8f8fca64e</td>\n",
       "      <td>google</td>\n",
       "      <td>32</td>\n",
       "      <td>['search' 'map' 'tips_show' 'advert_open']</td>\n",
       "      <td>6</td>\n",
       "      <td>False</td>\n",
       "      <td>215.583333</td>\n",
       "    </tr>\n",
       "    <tr>\n",
       "      <th>4</th>\n",
       "      <td>00551e79-152e-4441-9cf7-565d7eb04090</td>\n",
       "      <td>yandex</td>\n",
       "      <td>8</td>\n",
       "      <td>['contacts_show' 'contacts_call' 'search' 'pho...</td>\n",
       "      <td>3</td>\n",
       "      <td>True</td>\n",
       "      <td>3.100000</td>\n",
       "    </tr>\n",
       "  </tbody>\n",
       "</table>\n",
       "</div>"
      ],
      "text/plain": [
       "                                user_id  source  event_count  \\\n",
       "0  0001b1d5-b74a-4cbf-aeb0-7df5947bf349   other           35   \n",
       "1  00157779-810c-4498-9e05-a1e9e3cedf93  yandex           71   \n",
       "2  00463033-5717-4bf1-91b4-09183923b9df  yandex           10   \n",
       "3  004690c3-5a84-4bb7-a8af-e0c8f8fca64e  google           32   \n",
       "4  00551e79-152e-4441-9cf7-565d7eb04090  yandex            8   \n",
       "\n",
       "                                        event_unique  session_count  \\\n",
       "0                                ['tips_show' 'map']              4   \n",
       "1  ['search' 'photos_show' 'favorites_add' 'conta...              6   \n",
       "2                                    ['photos_show']              1   \n",
       "3         ['search' 'map' 'tips_show' 'advert_open']              6   \n",
       "4  ['contacts_show' 'contacts_call' 'search' 'pho...              3   \n",
       "\n",
       "   is_contact_show  avg_session  \n",
       "0            False    11.475000  \n",
       "1             True    32.683333  \n",
       "2            False    24.700000  \n",
       "3            False   215.583333  \n",
       "4             True     3.100000  "
      ]
     },
     "execution_count": 53,
     "metadata": {},
     "output_type": "execute_result"
    }
   ],
   "source": [
    "profiles.head()"
   ]
  },
  {
   "cell_type": "markdown",
   "metadata": {},
   "source": [
    "**Посчитаем 95-й и 99-й перцентили средней сессии пользователей. Выберем границу для определения аномальных значений**"
   ]
  },
  {
   "cell_type": "code",
   "execution_count": 54,
   "metadata": {},
   "outputs": [
    {
     "name": "stdout",
     "output_type": "stream",
     "text": [
      "[287.79  654.912]\n"
     ]
    }
   ],
   "source": [
    "print(np.percentile(profiles['avg_session'], [95, 99]))"
   ]
  },
  {
   "cell_type": "markdown",
   "metadata": {},
   "source": [
    "- не более **5%** сессий дольше **288 минут**\n",
    "- не более **1%** сессий дольше **655 минут**\n",
    "- примем за аномальных пользователей тех, у кого средняя сессия **длиннее 287 минут**. Так мы уберём **5%** пользователей с наиболее длинными сессиями"
   ]
  },
  {
   "cell_type": "markdown",
   "metadata": {},
   "source": [
    "**Удалим пользователей с аномально длинными сессиями и разделим данные на две группы**"
   ]
  },
  {
   "cell_type": "code",
   "execution_count": 55,
   "metadata": {},
   "outputs": [],
   "source": [
    "clear_profiles = profiles[profiles['avg_session'] < (int(np.percentile(profiles['avg_session'], [95])))]\n",
    "\n",
    "group_contact_show = clear_profiles[clear_profiles['is_contact_show'] == True]['avg_session']\n",
    "group_contact_NO_show = clear_profiles[clear_profiles['is_contact_show'] == False]['avg_session']"
   ]
  },
  {
   "cell_type": "markdown",
   "metadata": {},
   "source": [
    "**Применим статистический критерий Манна-Уитни к полученным выборкам**"
   ]
  },
  {
   "cell_type": "code",
   "execution_count": 56,
   "metadata": {},
   "outputs": [
    {
     "name": "stdout",
     "output_type": "stream",
     "text": [
      "p-value: 0.000\n",
      "относительный прирост: 0.797\n"
     ]
    }
   ],
   "source": [
    "print('p-value: {0:.3f}'.format(st.mannwhitneyu(group_contact_show, group_contact_NO_show)[1]))\n",
    "print('относительный прирост: {0:.3f}'.format(group_contact_show.mean()/group_contact_NO_show.mean()-1))"
   ]
  },
  {
   "cell_type": "markdown",
   "metadata": {},
   "source": [
    "- критический уровень статистической значимости мы приняли **5%** - это является общепринятым пороговым значением\n",
    "- значение p-value показывает: вероятность случайно получить такое или большее различие **0%**. Это достаточная вероятность, чтобы делать вывод о значимом различии\n",
    "- полученные данные противоречат нулевой гипотезе о том, что различий в средней сессии посетителя между группами нет, поэтому у нас есть основания отбросить нулевую гипотезу и принять гипотезу о том, что различия есть\n",
    "- p-значение **0.000 < 0.05** (критический уровень статистической значимости)\n",
    "- **отвергаем нулевую гипотезу: разница статистически значима**\n",
    "- **по «очищенным» данным можем предположить что различия в средней длинне сессии на посетителя между группами есть**\n",
    "- относительный выигрыш группы, которая просматривает контакты равен **79.7%**"
   ]
  },
  {
   "cell_type": "markdown",
   "metadata": {},
   "source": [
    "---\n",
    "### Вывод"
   ]
  },
  {
   "cell_type": "markdown",
   "metadata": {},
   "source": [
    "**одни пользователи совершают действия `tips_show` и `tips_click`, другие — только `tips_show`. Проверили гипотезу: конверсия в просмотры контактов различается у этих двух групп**\n",
    "- ***Сформировали гипотезы:***\n",
    " - **H_0:** Конверсия в просмотры контактов пользователей, совершающих действия `tips_show` и `tips_click` = Конверсии в просмотры контактов пользователей, совершающих только `tips_show`\n",
    " - **H_a:** Конверсия в просмотры контактов пользователей, совершающих действия `tips_show` и `tips_click` ≠ Конверсии в просмотры контактов пользователей, совершающих только `tips_show`\n",
    " - **alpha = 0.05**\n",
    "- **выделили две группы пользователей**\n",
    " - первая группа A, совершают действие `tips_show`, `tips_click`- всего пользователей в группе **А: 297**\n",
    " - вторая группа B, совершают действие `tips_show` без `tips_click` - всего пользователей в группе **B: 2504**\n",
    "- объединили две таблицы в одну\n",
    "- создали новый файл `new_logs`, где присутствовать только пользователи из группы А и группы B\n",
    "- посчитали конверсию этих двух групп\n",
    "- проверили, будет ли отличие между группами A и B статистически значимым\n",
    "- **Значение p-value показывает: вероятность случайно получить такое или большее различие 0%. Это достаточная вероятность, чтобы делать вывод о значимом различии конверсии между группами.**\n",
    "- **Полученные данные противоречат нулевой гипотезе о том, что `Конверсия в просмотры контактов пользователей, совершающих действия tips_show и tips_click = Конверсии в просмотры контактов пользователей, совершающих только tips_show`**\n",
    "- **Поэтому у нас есть основания отбросить нулевую гипотезу и принять гипотезу о том, что конверсия отличается**\n",
    "- **конверсия группы пользователей совершающих действия tips_show и tips_click в просмотры контактов - `30.6%`**\n",
    "- **конверсия группы пользователей совершающих только tips_show в просмотры контактов - `17%`**\n",
    "- **конверсия группы А в `1.8` раза выше группы В**\n",
    "\n",
    "**средняя продолжительность сессии пользователей совершающие целевое действие отличается от средней сессии пользователей не совершивших целевое действие**\n",
    "- ***Сформировали гипотезы:***\n",
    " - **H_0:** Средняя продолжительность сессии пользователей совершающие целевое действие `contacts_show` = Средней продолжительность сессии пользователей не совершающих целевое действие `contacts_show`\n",
    " - **H_a:** Средняя продолжительность сессии пользователей совершающие целевое действие `contacts_show` ≠ Средней продолжительность сессии пользователей не совершающих целевое действие `contacts_show`\n",
    " - **alpha = 0.05**\n",
    "- посчитали 95-й и 99-й перцентили средней сессии пользователей. Выбрали границу для определения аномальных значений\n",
    " - не более **5%** сессий дольше **288 минут**\n",
    " - не более **1%** сессий дольше **655 минут**\n",
    " - приняли за аномальных пользователей тех, у кого средняя сессия **длиннее 287 минут**. Так мы уберём **5%** пользователей с наиболее длинными сессиями\n",
    "- удалили пользователей с аномально длинными сессиями и разделили данные на две группы\n",
    "- применили статистический критерий **Манна-Уитни** к полученным выборкам\n",
    " - критический уровень статистической значимости мы приняли **5%** - это является общепринятым пороговым значением\n",
    " - значение p-value показывает: вероятность случайно получить такое или большее различие **0%**. Это достаточная вероятность, чтобы делать вывод о значимом различии\n",
    " - полученные данные противоречат нулевой гипотезе о том, что различий в средней сессии посетителя между группами нет, поэтому у нас есть основания отбросить нулевую гипотезу и принять гипотезу о том, что различия есть\n",
    " - p-значение **0.000 < 0.05** (критический уровень статистической значимости)\n",
    " - **отвергаем нулевую гипотезу: разница статистически значима**\n",
    " - **по «очищенным» данным можем предположить что различия в средней длинне сессии на посетителя между группами есть**\n",
    " - относительный выигрыш группы, которая просматривает контакты равен **79.7%**\n",
    "---"
   ]
  },
  {
   "cell_type": "markdown",
   "metadata": {},
   "source": [
    "## Общий вывод"
   ]
  },
  {
   "cell_type": "markdown",
   "metadata": {},
   "source": [
    "# Исследование поведения пользователей в мобильном приложении \n",
    "# \"Ненужные вещи\"\n",
    "**Описание проекта**\n",
    "\n",
    "Отделу аналитики приложения \"Ненужные вещи\" поступила задача от продукт-менеджера. Необходимо понять аудиторию приложения, сегментировать пользователей, для этого нам предстоит пронализировать поведение пользователей,- мы должны понять аудиторию, понять сценарии использования приложения\n",
    "\n",
    "**Цель исследования**\n",
    "- понять аудиторию приложения,- мы должны понять аудиторию, понять сценарии использования приложения для последующей сегментации пользователей, для этого нам предстоит пронализировать поведение пользователей\n",
    "\n",
    "**В наличии есть следующие данные**\n",
    "\n",
    "- `mobile_dataset.csv` - датасет содержит данные о событиях, совершенных в мобильном приложении \"Ненужные вещи\". В нем пользователи продают свои ненужные вещи, размещая их на доске объявлений. В датасете содержатся данные пользователей, впервые совершивших действия в приложении после 7 октября 2019 года\n",
    "- `mobile_sources.csv` - датасет с источниками, с которых пользователь установил приложение\n",
    "\n",
    "**Задачи исследования**\n",
    "\n",
    "- выяснить какие сценарии использования приложения выделяются\n",
    "- проанализировать связь целевого события — просмотра контактов — и других действий пользователей\n",
    "- выяснить как различается время между поиском и открытием объявления у пользователей, совершающих и не совершающих целевое действие\n",
    "- проверить статистические гипотезы\n",
    " - одни пользователи совершают действия tips_show и tips_click, другие — только tips_show. Проверить гипотезу: конверсия в просмотры контактов различается у этих двух групп\n",
    " - пользователи совершающие целевое действие являются более вовлеченными в приложение\n",
    " \n",
    "**Ход исследования**\n",
    "\n",
    "1. Загрузить файлы с данными и выполнить обзор данных\n",
    "2. Предобработка данных\n",
    "3. Исследовательский анализ данных\n",
    "4. Исследование воронки событий\n",
    "5. Статистическая проверка гипотез\n",
    "6. Общий вывод\n",
    "---"
   ]
  },
  {
   "cell_type": "markdown",
   "metadata": {},
   "source": [
    "**общая информация по данным**\n",
    "- всего **74197** событий в логе\n",
    "- всего **4293** пользователь в логе\n",
    "- в среднем на пользователя приходится **17** событий\n",
    "- медианное количество событий на пользователя **9**\n",
    "- минимальная и максимальная даты привлечения пользователей **2019-10-07 и 2019-11-03**\n",
    "- приняли **одну сессию равной календарному дню**\n",
    "\n",
    "**основные метрики пользовательской активности**\n",
    "- **DAU**(количество уникальных пользователей в день)в среднем **279** пользователей\n",
    "- **WAU**(количество уникальных пользователей в неделю)в среднем **1382** пользователя\n",
    "- динамика в целом положительная, что должно хорошо сказываться на продукте\n",
    "- **Sticky factor - 20.19**\n",
    "- среднее число сессий на пользователя в месяц **1.8** сессии\n",
    "- медианное число сессий на пользователя в месяц **1** сессия\n",
    "- среднее число сессий на человека в неделю от **1.3 до 1.48** сессии\n",
    "- медианная продолжительность сессии около **16.5 минут**, неплохой результат\n",
    "\n",
    "**пользователи приходят в приложение из 3(трех) различных источников:**  \n",
    "- на первом месте по количеству пользователей **yandex - 1934 (45.1%)** пользователей\n",
    "- на втором месте **other - 1230 (28.7%)** пользователей\n",
    "- на третьем месте **google - 1129 (26.3%)**\n",
    "- заметно среди всех источников выделяется лидер **Yandex**, почти половина пользователей приходит с этого канала\n",
    "---"
   ]
  },
  {
   "cell_type": "markdown",
   "metadata": {},
   "source": [
    "**исследование продуктовой воронки**\n",
    "\n",
    "самые популярные сценарии, включающие целевое событие `contacts_show`\n",
    "- **tips_show -> contacts_show**\n",
    " - конверсия в шаг выглядит следующим образом:\n",
    "  -- **tips_show** - 2801 пользователей **100%** конверсии в шаг\n",
    "  -- **contacts_show** - 516 пользователей **18.4%** конверсии в шаг\n",
    "  -- наблюдаем большую просадку в этом сценарии между шагами `tips_show -> contacts_show` - **теряем 81.6% пользователей**\n",
    "- **map -> tips_show -> contacts_show**\n",
    " - конверсия в шаг выглядит следующим образом:\n",
    "  -- **map** - 1456 пользователей **100%** конверсии в шаг\n",
    "  -- **tips_show** - 1352 пользователей **92.9%** конверсии в шаг\n",
    "  -- **contacts_show** - 289 пользователей **21.4%** конверсии в шаг\n",
    "  -- наблюдаем большую просадку в этом сценарии между шагами `tips_show -> contacts_show` - **теряем 78.6% пользователей**\n",
    "- **photos_show -> contacts_show**\n",
    " - конверсия в шаг выглядит следующим образом:\n",
    "  -- **photos_show** - 1095 пользователей **100%** конверсии в шаг\n",
    "  -- **contacts_show** - 339 пользователей **31.0%** конверсии в шаг\n",
    "  -- наблюдаем большую просадку в этом сценарии между шагами `photos_show -> contacts_show` - **теряем 69% пользователей**\n",
    "- **медианное время сессии, в которой присутствует поиск и открытие объявления**\n",
    " - у пользователей **совершивших** просмотр контактов: **3.7 минут**\n",
    " - у пользователей **не совершивших** просмотр контактов: **1.9 минут**\n",
    " - время между поиском и открытием объявления у пользователей совершивших целевое событие в **2 раза больше**, чем у пользователей, не совершивших целевое событие\n",
    "---"
   ]
  },
  {
   "cell_type": "markdown",
   "metadata": {},
   "source": [
    "**статистическое исследование**\n",
    "- сравнение конверсии группы пользователей совершающих действия `tips_show и tips_click` и совершающий только `tips_show` в просмотры контактов\n",
    " - **стат исследование показало, что конверсия отличается**\n",
    " - конверсия группы пользователей совершающих действия `tips_show и tips_click` в просмотры контактов - **30.6%**\n",
    " - конверсия группы пользователей совершающих только `tips_show` в просмотры контактов - **17%**\n",
    " - **конверсия группы А в `1.8` раза выше группы В**\n",
    " \n",
    "- сравнение средней продолжительности сессии пользователей **совершающие просмотр контактов** и не **совершивших просмотр контактов**\n",
    " - **стат исследование показало, что среднее время сессии групп пользователей отличается**\n",
    " - относительное увеличение средней сессии группы, которая просматривает контакты равен **79.7%**\n",
    "---"
   ]
  },
  {
   "cell_type": "markdown",
   "metadata": {},
   "source": [
    "- **исследования показывают, что пользователи просматривающие контакты тратят намного больше времени между поиском и открытием объявления, так и среднее время сессии таких пользователей выше**\n",
    " - это может говорить о каких-то проблемах при использовании целевого дейтсвия - просмотр контактов\n",
    " - рекомендуется дополнительно проанализировать технические аспекты этого действия\n",
    "- **большие потери конверсии при переходе на просмотр контактов**, так же свидетельствуют об этом\n",
    "- наблюдаем также большое различие конверсии в просмотр контактов групп пользователей, которые только смотрят рекомендации и тех, кто смотри и переходит по ним\n",
    " - получается есть трудности при переходе в контакты сразу из рекомендательной ленты\n",
    " \n",
    "- **рекомендуется повышать конверсию переходов на просмотр контактов**\n",
    "- так же изучить страницу просмора контактов, возможно получиться ее оптимизировать,- изменить дизайн, сделать более понятной для пользователя, чтобы выровнить время сессии пользователей, а так же время между поиском и открытием объявления у тех кто смотрит контакты и тех, кто не смотрит"
   ]
  }
 ],
 "metadata": {
  "ExecuteTimeLog": [
   {
    "duration": 1266,
    "start_time": "2023-05-30T09:09:03.631Z"
   },
   {
    "duration": 374,
    "start_time": "2023-05-30T09:09:04.899Z"
   },
   {
    "duration": 22,
    "start_time": "2023-05-30T09:09:05.274Z"
   },
   {
    "duration": 25,
    "start_time": "2023-05-30T09:09:05.298Z"
   },
   {
    "duration": 33,
    "start_time": "2023-05-30T09:09:05.324Z"
   },
   {
    "duration": 28,
    "start_time": "2023-05-30T09:09:05.359Z"
   },
   {
    "duration": 59,
    "start_time": "2023-05-30T09:09:05.388Z"
   },
   {
    "duration": 7,
    "start_time": "2023-05-30T09:09:05.449Z"
   },
   {
    "duration": 16,
    "start_time": "2023-05-30T09:09:05.457Z"
   },
   {
    "duration": 39,
    "start_time": "2023-05-30T09:09:05.476Z"
   },
   {
    "duration": 4,
    "start_time": "2023-05-30T09:09:05.516Z"
   },
   {
    "duration": 2638,
    "start_time": "2023-05-30T09:09:05.521Z"
   },
   {
    "duration": 60,
    "start_time": "2023-05-30T09:09:08.161Z"
   },
   {
    "duration": 20,
    "start_time": "2023-05-30T09:09:08.223Z"
   },
   {
    "duration": 107,
    "start_time": "2023-05-30T09:09:08.245Z"
   },
   {
    "duration": 26,
    "start_time": "2023-05-30T09:09:08.354Z"
   },
   {
    "duration": 36,
    "start_time": "2023-05-30T09:09:08.381Z"
   },
   {
    "duration": 31,
    "start_time": "2023-05-30T09:09:08.419Z"
   },
   {
    "duration": 30,
    "start_time": "2023-05-30T09:09:08.452Z"
   },
   {
    "duration": 14,
    "start_time": "2023-05-30T09:09:08.484Z"
   },
   {
    "duration": 510,
    "start_time": "2023-05-30T09:09:08.500Z"
   },
   {
    "duration": 940,
    "start_time": "2023-05-30T09:09:09.012Z"
   },
   {
    "duration": 417,
    "start_time": "2023-05-30T09:09:09.953Z"
   },
   {
    "duration": 13,
    "start_time": "2023-05-30T09:09:10.371Z"
   },
   {
    "duration": 4,
    "start_time": "2023-05-30T09:09:10.385Z"
   },
   {
    "duration": 30,
    "start_time": "2023-05-30T09:09:10.391Z"
   },
   {
    "duration": 40,
    "start_time": "2023-05-30T09:09:10.423Z"
   },
   {
    "duration": 16,
    "start_time": "2023-05-30T09:09:10.466Z"
   },
   {
    "duration": 41,
    "start_time": "2023-05-30T09:09:10.483Z"
   },
   {
    "duration": 59,
    "start_time": "2023-05-30T09:09:10.525Z"
   },
   {
    "duration": 46,
    "start_time": "2023-05-30T09:09:10.585Z"
   },
   {
    "duration": 14,
    "start_time": "2023-05-30T09:09:10.633Z"
   },
   {
    "duration": 13,
    "start_time": "2023-05-30T09:09:10.648Z"
   },
   {
    "duration": 29,
    "start_time": "2023-05-30T09:09:10.663Z"
   },
   {
    "duration": 6,
    "start_time": "2023-05-30T09:09:10.694Z"
   },
   {
    "duration": 77,
    "start_time": "2023-05-30T09:09:10.702Z"
   },
   {
    "duration": 88,
    "start_time": "2023-05-30T09:09:10.780Z"
   },
   {
    "duration": 84,
    "start_time": "2023-05-30T09:09:10.870Z"
   },
   {
    "duration": 26,
    "start_time": "2023-05-30T09:09:10.955Z"
   },
   {
    "duration": 35,
    "start_time": "2023-05-30T09:09:10.983Z"
   },
   {
    "duration": 11,
    "start_time": "2023-05-30T09:09:11.020Z"
   },
   {
    "duration": 16,
    "start_time": "2023-05-30T09:09:11.032Z"
   },
   {
    "duration": 16,
    "start_time": "2023-05-30T09:09:11.049Z"
   },
   {
    "duration": 7,
    "start_time": "2023-05-30T09:09:11.066Z"
   },
   {
    "duration": 21,
    "start_time": "2023-05-30T09:09:11.074Z"
   },
   {
    "duration": 36,
    "start_time": "2023-05-30T09:09:11.096Z"
   },
   {
    "duration": 10,
    "start_time": "2023-05-30T09:09:11.134Z"
   },
   {
    "duration": 89,
    "start_time": "2023-05-30T09:09:11.145Z"
   },
   {
    "duration": 10,
    "start_time": "2023-05-30T09:09:11.236Z"
   },
   {
    "duration": 10,
    "start_time": "2023-05-30T09:09:11.248Z"
   },
   {
    "duration": 22,
    "start_time": "2023-05-30T09:09:11.259Z"
   },
   {
    "duration": 32,
    "start_time": "2023-05-30T09:09:11.283Z"
   },
   {
    "duration": 1603,
    "start_time": "2023-05-31T16:08:56.003Z"
   },
   {
    "duration": 282,
    "start_time": "2023-05-31T16:08:57.613Z"
   },
   {
    "duration": 825,
    "start_time": "2023-05-31T16:08:57.897Z"
   },
   {
    "duration": 52,
    "start_time": "2023-05-31T16:08:58.724Z"
   },
   {
    "duration": 6,
    "start_time": "2023-05-31T16:08:58.778Z"
   },
   {
    "duration": 46,
    "start_time": "2023-05-31T16:08:58.786Z"
   },
   {
    "duration": 42,
    "start_time": "2023-05-31T16:08:58.834Z"
   },
   {
    "duration": 52,
    "start_time": "2023-05-31T16:08:58.878Z"
   },
   {
    "duration": 11,
    "start_time": "2023-05-31T16:08:58.932Z"
   },
   {
    "duration": 19,
    "start_time": "2023-05-31T16:08:58.947Z"
   },
   {
    "duration": 46,
    "start_time": "2023-05-31T16:08:58.968Z"
   },
   {
    "duration": 11,
    "start_time": "2023-05-31T16:08:59.016Z"
   },
   {
    "duration": 3849,
    "start_time": "2023-05-31T16:08:59.029Z"
   },
   {
    "duration": 36,
    "start_time": "2023-05-31T16:09:02.884Z"
   },
   {
    "duration": 47,
    "start_time": "2023-05-31T16:09:02.922Z"
   },
   {
    "duration": 109,
    "start_time": "2023-05-31T16:09:02.970Z"
   },
   {
    "duration": 106,
    "start_time": "2023-05-31T16:09:03.081Z"
   },
   {
    "duration": 5,
    "start_time": "2023-05-31T16:09:03.189Z"
   },
   {
    "duration": 30,
    "start_time": "2023-05-31T16:09:03.196Z"
   },
   {
    "duration": 62,
    "start_time": "2023-05-31T16:09:03.229Z"
   },
   {
    "duration": 28,
    "start_time": "2023-05-31T16:09:03.303Z"
   },
   {
    "duration": 869,
    "start_time": "2023-05-31T16:09:03.333Z"
   },
   {
    "duration": 1378,
    "start_time": "2023-05-31T16:09:04.210Z"
   },
   {
    "duration": 1084,
    "start_time": "2023-05-31T16:09:05.590Z"
   },
   {
    "duration": 41,
    "start_time": "2023-05-31T16:09:06.676Z"
   },
   {
    "duration": 187,
    "start_time": "2023-05-31T16:09:06.721Z"
   },
   {
    "duration": 206,
    "start_time": "2023-05-31T16:09:06.913Z"
   },
   {
    "duration": 6,
    "start_time": "2023-05-31T16:09:07.124Z"
   },
   {
    "duration": 35,
    "start_time": "2023-05-31T16:09:07.132Z"
   },
   {
    "duration": 32,
    "start_time": "2023-05-31T16:09:07.177Z"
   },
   {
    "duration": 5,
    "start_time": "2023-05-31T16:09:07.211Z"
   },
   {
    "duration": 45,
    "start_time": "2023-05-31T16:09:07.218Z"
   },
   {
    "duration": 79,
    "start_time": "2023-05-31T16:09:07.267Z"
   },
   {
    "duration": 54,
    "start_time": "2023-05-31T16:09:07.348Z"
   },
   {
    "duration": 26,
    "start_time": "2023-05-31T16:09:07.404Z"
   },
   {
    "duration": 3,
    "start_time": "2023-05-31T16:09:07.432Z"
   },
   {
    "duration": 37,
    "start_time": "2023-05-31T16:09:07.437Z"
   },
   {
    "duration": 18,
    "start_time": "2023-05-31T16:09:07.486Z"
   },
   {
    "duration": 123,
    "start_time": "2023-05-31T16:09:07.507Z"
   },
   {
    "duration": 103,
    "start_time": "2023-05-31T16:09:07.633Z"
   },
   {
    "duration": 87,
    "start_time": "2023-05-31T16:09:07.738Z"
   },
   {
    "duration": 80,
    "start_time": "2023-05-31T16:09:07.829Z"
   },
   {
    "duration": 10,
    "start_time": "2023-05-31T16:09:07.912Z"
   },
   {
    "duration": 19,
    "start_time": "2023-05-31T16:09:07.924Z"
   },
   {
    "duration": 171,
    "start_time": "2023-05-31T16:09:07.945Z"
   },
   {
    "duration": 19,
    "start_time": "2023-05-31T16:09:08.118Z"
   },
   {
    "duration": 24,
    "start_time": "2023-05-31T16:09:08.139Z"
   },
   {
    "duration": 31,
    "start_time": "2023-05-31T16:09:08.165Z"
   },
   {
    "duration": 8,
    "start_time": "2023-05-31T16:09:08.198Z"
   },
   {
    "duration": 39,
    "start_time": "2023-05-31T16:09:08.208Z"
   },
   {
    "duration": 36,
    "start_time": "2023-05-31T16:09:08.249Z"
   },
   {
    "duration": 115,
    "start_time": "2023-05-31T16:09:08.288Z"
   },
   {
    "duration": 28,
    "start_time": "2023-05-31T16:09:08.409Z"
   },
   {
    "duration": 5,
    "start_time": "2023-05-31T16:09:08.440Z"
   },
   {
    "duration": 11,
    "start_time": "2023-05-31T16:09:08.447Z"
   },
   {
    "duration": 13,
    "start_time": "2023-05-31T16:09:08.459Z"
   }
  ],
  "kernelspec": {
   "display_name": "Python 3 (ipykernel)",
   "language": "python",
   "name": "python3"
  },
  "language_info": {
   "codemirror_mode": {
    "name": "ipython",
    "version": 3
   },
   "file_extension": ".py",
   "mimetype": "text/x-python",
   "name": "python",
   "nbconvert_exporter": "python",
   "pygments_lexer": "ipython3",
   "version": "3.9.15"
  },
  "toc": {
   "base_numbering": 1,
   "nav_menu": {},
   "number_sections": true,
   "sideBar": false,
   "skip_h1_title": true,
   "title_cell": "Table of Contents",
   "title_sidebar": "Contents",
   "toc_cell": false,
   "toc_position": {
    "height": "calc(100% - 180px)",
    "left": "10px",
    "top": "150px",
    "width": "288px"
   },
   "toc_section_display": false,
   "toc_window_display": false
  }
 },
 "nbformat": 4,
 "nbformat_minor": 2
}
